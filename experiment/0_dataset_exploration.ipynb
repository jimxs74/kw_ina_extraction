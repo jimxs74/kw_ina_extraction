{
 "cells": [
  {
   "cell_type": "code",
   "execution_count": 1,
   "metadata": {},
   "outputs": [],
   "source": [
    "#1. rutin1 import module\n",
    "import pandas as pd\n",
    "import os\n",
    "import sys\n",
    "import warnings\n",
    "import matplotlib.pyplot as plt\n",
    "#from sklearn.metrics.pairwise import cosine_similarity\n",
    "\n",
    "warnings.simplefilter(action='ignore', category=UserWarning)"
   ]
  },
  {
   "cell_type": "code",
   "execution_count": 2,
   "metadata": {},
   "outputs": [],
   "source": [
    "#2. rutin2 membuat syspath ke root utk aktifkan __init__.py\n",
    "repo_root = os.path.abspath(os.path.join(os.getcwd(), os.pardir))\n",
    "sys.path.append(repo_root)"
   ]
  },
  {
   "cell_type": "code",
   "execution_count": 3,
   "metadata": {},
   "outputs": [],
   "source": [
    "#3. rutin3 Load the dataset\n",
    "#dataset_path = os.path.join(repo_root, \"notebooks/postager_nlp-id/dataset_ekstraksi_r29_pos_sm.xlsx\")\n",
    "dataset_path = os.path.join(repo_root, \"data/dataset_ekstraksi_r29_lg.xlsx\")\n",
    "df = pd.read_excel(dataset_path)\n",
    "df[\"text\"] = df[\"judul\"] +\". \"+ df[\"isi\"]"
   ]
  },
  {
   "cell_type": "code",
   "execution_count": 4,
   "metadata": {},
   "outputs": [
    {
     "name": "stderr",
     "output_type": "stream",
     "text": [
      "[nltk_data] Downloading package punkt to /Users/jim/nltk_data...\n",
      "[nltk_data]   Package punkt is already up-to-date!\n"
     ]
    },
    {
     "name": "stdout",
     "output_type": "stream",
     "text": [
      "Average Length of Document in Sentences: 9.753\n",
      "Average Length of Document in Words: 210.372\n"
     ]
    }
   ],
   "source": [
    "import nltk\n",
    "\n",
    "nltk.download('punkt')  # Download the necessary data for sentence tokenization\n",
    "\n",
    "def avg_sentence_length(document):\n",
    "    sentences = nltk.sent_tokenize(document)\n",
    "    return len(sentences)\n",
    "\n",
    "# Assuming your DataFrame is called df and contains a \"document\" column\n",
    "df['avg_sentence_length'] = df['text'].apply(avg_sentence_length)\n",
    "average_sentence_length = df['avg_sentence_length'].mean()\n",
    "\n",
    "def avg_word_length(document):\n",
    "    words = nltk.word_tokenize(document)\n",
    "    return len(words)\n",
    "\n",
    "# Assuming your DataFrame is called df and contains a \"document\" column\n",
    "df['avg_word_length'] = df['text'].apply(avg_word_length)\n",
    "average_word_length = df['avg_word_length'].mean()\n",
    "\n",
    "print(f\"Average Length of Document in Sentences: {average_sentence_length}\")\n",
    "print(f\"Average Length of Document in Words: {average_word_length}\")\n"
   ]
  },
  {
   "cell_type": "code",
   "execution_count": 5,
   "metadata": {},
   "outputs": [
    {
     "data": {
      "text/plain": [
       "3.641"
      ]
     },
     "execution_count": 5,
     "metadata": {},
     "output_type": "execute_result"
    }
   ],
   "source": [
    "# Count the number of non-empty cells per row for each column (k1 to k7)\n",
    "df_kw = df[['k1', 'k2', 'k3', 'k4', 'k5', 'k6', 'k7']]\n",
    "non_empty_counts = df_kw.apply(lambda x: x.count(), axis=1)\n",
    "\n",
    "# Calculate the average number of non-empty cells per row\n",
    "average_per_row = non_empty_counts.mean()\n",
    "\n",
    "# Display the average\n",
    "average_per_row\n"
   ]
  },
  {
   "cell_type": "markdown",
   "metadata": {},
   "source": [
    "Visualization"
   ]
  }
 ],
 "metadata": {
  "kernelspec": {
   "display_name": "kw_ina",
   "language": "python",
   "name": "python3"
  },
  "language_info": {
   "codemirror_mode": {
    "name": "ipython",
    "version": 3
   },
   "file_extension": ".py",
   "mimetype": "text/x-python",
   "name": "python",
   "nbconvert_exporter": "python",
   "pygments_lexer": "ipython3",
   "version": "3.11.4"
  }
 },
 "nbformat": 4,
 "nbformat_minor": 2
}
