{
 "cells": [
  {
   "cell_type": "code",
   "execution_count": null,
   "metadata": {},
   "outputs": [],
   "source": [
    "#1. rutin1 import module\n",
    "import pandas as pd\n",
    "import os\n",
    "import sys\n",
    "import warnings\n",
    "import matplotlib.pyplot as plt\n",
    "\n",
    "import networkx as nx\n",
    "from collections import defaultdict\n",
    "\n",
    "warnings.simplefilter(action='ignore', category=UserWarning)"
   ]
  },
  {
   "cell_type": "code",
   "execution_count": null,
   "metadata": {},
   "outputs": [],
   "source": [
    "#2. rutin2 membuat syspath ke root utk aktifkan __init__.py\n",
    "repo_root = os.path.abspath(os.path.join(os.getcwd(), os.pardir))\n",
    "sys.path.append(repo_root)"
   ]
  },
  {
   "cell_type": "code",
   "execution_count": null,
   "metadata": {},
   "outputs": [],
   "source": [
    "#3. rutin3 Load the dataset\n",
    "dataset_path = os.path.join(repo_root, \"data/dataset_ekstraksi_r30_lg.xlsx\")\n",
    "df = pd.read_excel(dataset_path)\n",
    "df[\"text\"] = df[\"judul\"] +\". \"+ df[\"isi\"]\n",
    "#df_pos = df['pos_sentence_list']"
   ]
  },
  {
   "cell_type": "code",
   "execution_count": null,
   "metadata": {},
   "outputs": [],
   "source": [
    "def cosine_similarity(vec1, vec2):\n",
    "    \"\"\"Calculate cosine similarity between two vectors.\"\"\"\n",
    "    dot_product = sum(a * b for a, b in zip(vec1, vec2))\n",
    "    magnitude1 = sum(a**2 for a in vec1) ** 0.5\n",
    "    magnitude2 = sum(b**2 for b in vec2) ** 0.5\n",
    "    if magnitude1 * magnitude2 == 0:\n",
    "        return 0\n",
    "    return dot_product / (magnitude1 * magnitude2)"
   ]
  },
  {
   "cell_type": "code",
   "execution_count": null,
   "metadata": {},
   "outputs": [],
   "source": [
    "stopwords_path = os.path.join(repo_root, \"notebooks/stopwords_tuning/all_stop_words.txt\")\n",
    "with open(stopwords_path, 'r') as file:\n",
    "    stopwords = set(file.read().strip().splitlines())"
   ]
  },
  {
   "cell_type": "code",
   "execution_count": null,
   "metadata": {},
   "outputs": [],
   "source": [
    "def textrank(text, num_keywords=5):\n",
    "    # Tokenize the text\n",
    "    words = word_tokenize(text)\n",
    "    \n",
    "    # Load stopwords for the specified language\n",
    "    stop_words = stopwords\n",
    "    \n",
    "    # Filter out stopwords and punctuation\n",
    "    words = [word.lower() for word in words if word.lower() not in stop_words and word not in string.punctuation]\n",
    "    \n",
    "    # Build a co-occurrence matrix\n",
    "    co_occurrence = defaultdict(int)\n",
    "    window_size = 2\n",
    "    for i in range(len(words) - window_size + 1):\n",
    "        window = words[i:i+window_size]\n",
    "        for j in range(window_size):\n",
    "            for k in range(j+1, window_size):\n",
    "                w1, w2 = sorted([window[j], window[k]])\n",
    "                if w1 != w2:\n",
    "                    co_occurrence[(w1, w2)] += 1\n",
    "    \n",
    "    # Build a graph\n",
    "    G = nx.Graph()\n",
    "    for (w1, w2), weight in co_occurrence.items():\n",
    "        \n",
    "        # Get word embeddings\n",
    "        vec1 = nlp(w1).vector\n",
    "        vec2 = nlp(w2).vector\n",
    "\n",
    "        # Calculate similarity score\n",
    "        similarity = cosine_similarity(vec1, vec2)\n",
    "\n",
    "        G.add_edge(w1, w2, weight=weight)\n",
    "    \n",
    "    # Compute TextRank scores\n",
    "    scores = nx.pagerank(G)\n",
    "    \n",
    "    # Sort words by scores\n",
    "    ranked_words = sorted(((score, word) for word, score in scores.items()), reverse=True)\n",
    "    \n",
    "    # Extract the top keywords\n",
    "    keywords = [word for score, word in ranked_words[:num_keywords]]\n",
    "    \n",
    "    return keywords\n"
   ]
  }
 ],
 "metadata": {
  "language_info": {
   "name": "python"
  }
 },
 "nbformat": 4,
 "nbformat_minor": 2
}
