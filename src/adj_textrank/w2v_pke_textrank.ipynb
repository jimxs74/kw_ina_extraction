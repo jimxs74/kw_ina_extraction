{
 "cells": [
  {
   "cell_type": "markdown",
   "metadata": {},
   "source": [
    "Membuat variasi word 2 vector dengan source textrank pke, yg bisa mengolah phrase N-gram\n",
    "step-step yg akan dilakukan antara lain \n",
    "1. Imports & Setup\n",
    "2. Load Dataset:\n",
    "3. Preprocess Data:\n",
    "4. Word2Vec Processing:\n",
    "5. TextRank Integration:\n",
    "6. Graph Construction with Word2Vec:\n",
    "7. Extract Keyphrases:\n",
    "8. Post-Processing & Results Display:"
   ]
  },
  {
   "cell_type": "markdown",
   "metadata": {},
   "source": [
    "1. Imports & Setup"
   ]
  },
  {
   "cell_type": "code",
   "execution_count": 12,
   "metadata": {},
   "outputs": [],
   "source": [
    "#1. rutin1 import module\n",
    "import pandas as pd\n",
    "import os\n",
    "import sys\n",
    "from sklearn.metrics.pairwise import cosine_similarity"
   ]
  },
  {
   "cell_type": "code",
   "execution_count": 13,
   "metadata": {},
   "outputs": [],
   "source": [
    "#2. rutin2 membuat syspath ke root utk aktifkan __init__.py\n",
    "repo_root = os.path.abspath(os.path.join(os.getcwd(), os.pardir, os.pardir))\n",
    "sys.path.append(repo_root)"
   ]
  },
  {
   "cell_type": "markdown",
   "metadata": {},
   "source": [
    "2. Load Dataset"
   ]
  },
  {
   "cell_type": "code",
   "execution_count": 14,
   "metadata": {},
   "outputs": [],
   "source": [
    "#3. rutin3 Load the dataset\n",
    "dataset_path = os.path.join(repo_root, \"notebooks/postager_nlp-id/dataset_ekstraksi_r29_pos_sm.xlsx\")\n",
    "df = pd.read_excel(dataset_path)\n",
    "df_pos = df['pos_sentence_list']"
   ]
  },
  {
   "cell_type": "markdown",
   "metadata": {},
   "source": [
    "3. Preprocess Data:"
   ]
  },
  {
   "cell_type": "code",
   "execution_count": 15,
   "metadata": {},
   "outputs": [],
   "source": [
    "import re\n",
    "from Sastrawi.StopWordRemover.StopWordRemoverFactory import StopWordRemover, ArrayDictionary\n",
    "\n",
    "def preprocess(text):\n",
    "    '''\n",
    "    fungsi untuk menghilangkan karakter yg tidak bermakna dan menghilangkan stopword.\n",
    "    referensi stopword: tala + sastrawi + custom\n",
    "    '''\n",
    "    text = re.sub(r\"\\b[a-zA-Z]\\b\", \"\", text)\n",
    "    text = text.replace('.', '. ')\n",
    "    text = re.sub('[^a-zA-Z.]', ' ', text)\n",
    "    text = text.lower()\n",
    "    text = re.sub(\"(\\\\d|\\\\W)+\",\" \",text)\n",
    "    text = text.strip()\n",
    "\n",
    "    stopwords_path = os.path.join(repo_root, \"data/all_stop_words.txt\")\n",
    "    with open(stopwords_path, 'r') as f:\n",
    "        stopwords = [line.strip() for line in f]\n",
    "    \n",
    "    dictionary = ArrayDictionary(stopwords)\n",
    "    str = StopWordRemover(dictionary)\n",
    "    text = str.remove(text) # 2x cleaning stop word\n",
    "    text = str.remove(text)\n",
    "    return text\n",
    "\n",
    "def preprocess_tokenize(text):\n",
    "    '''\n",
    "    fungsi untuk memproses text yg sudah di process di preprocess() menjadi token\n",
    "    dilakukan 3x preprocessing, karena stopword masih sering lewat kalau hanya 1x\n",
    "    '''\n",
    "    text = preprocess(text)\n",
    "    text = preprocess(text)\n",
    "    text = preprocess(text)\n",
    "    tokens = text.split()\n",
    "    tokens = [token for token in tokens if token]  # remove any empty tokens\n",
    "    return tokens"
   ]
  },
  {
   "cell_type": "code",
   "execution_count": null,
   "metadata": {},
   "outputs": [],
   "source": [
    "preprocessed_text = preprocess_tokenize(text_row)"
   ]
  },
  {
   "cell_type": "markdown",
   "metadata": {},
   "source": [
    "4. Word2Vec Processing:"
   ]
  },
  {
   "cell_type": "code",
   "execution_count": null,
   "metadata": {},
   "outputs": [],
   "source": [
    "def gen_word_embeddings(text_row, w2v_model):\n",
    "    # Get the word embeddings for each word in the preprocessed text\n",
    "    word_embeddings = {}\n",
    "    for word in text_row:\n",
    "        if word in w2v_model.wv:\n",
    "            word_embeddings[word] = w2v_model.wv[word]\n",
    "    return word_embeddings"
   ]
  },
  {
   "cell_type": "code",
   "execution_count": null,
   "metadata": {},
   "outputs": [],
   "source": [
    "from gensim.models import Word2Vec\n",
    "\n",
    "pred_w2v_tr_tune = pd.DataFrame()\n",
    "w2v_path = os.path.join(repo_root, \"models/w2v/idwiki_word2vec_100_new_lower.model\")\n",
    "w2v_model = Word2Vec.load(w2v_path)\n",
    "for i in df.index:\n",
    "    text_row = df['text'][i]\n",
    "    unigram = extract_keywords(w2v_model, text_row, n=3).reset_index(drop=True)\n",
    "    a = pd.DataFrame(unigram.keywords).T.reset_index(drop=True)\n",
    "    b = pd.DataFrame(unigram.score).T.reset_index(drop=True)\n",
    "\n",
    "    # add extra empty columns to a and b dataframes if necessary\n",
    "    if a.shape[1] < 3:\n",
    "        for i in range(3 - a.shape[1]):\n",
    "            a[f'col{i+1}'] = ''\n",
    "            b[f'col{i+1}'] = ''\n",
    "    unigram = pd.concat([a, b], axis=1)\n",
    "    if unigram.shape[1] < 6:\n",
    "        for i in range(6 - unigram.shape[1]):\n",
    "            unigram[f'col{i+1}'] = ''\n",
    "    unigram.columns = ['key_1', 'key_2','key_3','score_1', 'score_2','score_3']\n",
    "\n",
    "    pred_w2v_tr_tune = pd.concat([pred_w2v_tr_tune, unigram], ignore_index=True)\n",
    "    pred_w2v_tr_tune[['score_1', 'score_2', 'score_3']] = pred_w2v_tr_tune[['score_1', 'score_2', 'score_3']].round(3)\n",
    "\n",
    "pred_w2v_tr_tune"
   ]
  },
  {
   "cell_type": "markdown",
   "metadata": {},
   "source": [
    "5. TextRank Integration:"
   ]
  },
  {
   "cell_type": "markdown",
   "metadata": {},
   "source": [
    "6. Graph Construction with Word2Vec:"
   ]
  },
  {
   "cell_type": "markdown",
   "metadata": {},
   "source": [
    "7. Extract Keyphrases:"
   ]
  },
  {
   "cell_type": "markdown",
   "metadata": {},
   "source": [
    "8. Post-Processing & Results Display:"
   ]
  },
  {
   "cell_type": "code",
   "execution_count": 11,
   "metadata": {},
   "outputs": [],
   "source": [
    "# import module dalam path utils?? belum berhasil\n",
    "from utils import TextRank\n",
    "from utils import LoadFile\n",
    "\n",
    "#textrank = TextRank()\n",
    "#loader = LoadFile()\n",
    "\n",
    "pos = {'NN', 'VP', 'NP', 'FW'}\n",
    "# 1. create a TextRank extractor.\n",
    "extractor = TextRank()"
   ]
  },
  {
   "cell_type": "code",
   "execution_count": 6,
   "metadata": {},
   "outputs": [],
   "source": [
    "import ast\n",
    "\n",
    "df_keyphrases = pd.DataFrame(columns=['key_1', 'val_1', 'key_2', 'val_2', 'key_3', 'val_3'])\n",
    "\n",
    "for text in df_pos:\n",
    "    text1 = ast.literal_eval(text)\n",
    "    extractor.load_document(input=text1) # text is not a list of list of tuple\n",
    "    keyphrase = extractor.candidate_weighting_ia()\n",
    "\n",
    "        # Separate the key and value elements into separate lists\n",
    "    keys = [item[0] for item in keyphrase]\n",
    "    values = [item[1] for item in keyphrase]\n",
    "\n",
    "    # Create a dictionary with the keys and values\n",
    "    data = {\n",
    "    'key_1': [keys[0]],\n",
    "    'val_1': [values[0]],\n",
    "    'key_2': [keys[1]],\n",
    "    'val_2': [values[1]],\n",
    "    'key_3': [keys[2]],\n",
    "    'val_3': [values[2]],\n",
    "    }\n",
    "    df_keyphrase = pd.DataFrame(data)\n",
    "    \n",
    "    # Concatenate df_keyphrase with df_keyphrases\n",
    "    df_keyphrases = pd.concat([df_keyphrases, df_keyphrase], ignore_index=True)"
   ]
  },
  {
   "cell_type": "code",
   "execution_count": 7,
   "metadata": {},
   "outputs": [
    {
     "name": "stderr",
     "output_type": "stream",
     "text": [
      "/home/jimx/Documents/GitHub/kw_ina_extraction/utils/ia_file_operation.py:15: FutureWarning: Setting the `book` attribute is not part of the public API, usage can give unexpected or corrupted results and will be removed in a future version\n",
      "  writer.book = book\n",
      "/home/jimx/Documents/GitHub/kw_ina_extraction/utils/ia_file_operation.py:24: FutureWarning: save is not part of the public API, usage can give unexpected results and will be removed in a future version\n",
      "  writer.save()\n"
     ]
    }
   ],
   "source": [
    "# Write predictions to excel file\n",
    "from utils import write_excel\n",
    "\n",
    "sheet_name = 'w2v_pke_textrank'\n",
    "output_file = 'w2v_pke_textrank.xlsx'\n",
    "write_excel(df_keyphrases, sheet_name, output_file)"
   ]
  }
 ],
 "metadata": {
  "kernelspec": {
   "display_name": "kw_ina",
   "language": "python",
   "name": "python3"
  },
  "language_info": {
   "codemirror_mode": {
    "name": "ipython",
    "version": 3
   },
   "file_extension": ".py",
   "mimetype": "text/x-python",
   "name": "python",
   "nbconvert_exporter": "python",
   "pygments_lexer": "ipython3",
   "version": "3.11.4"
  },
  "orig_nbformat": 4
 },
 "nbformat": 4,
 "nbformat_minor": 2
}
