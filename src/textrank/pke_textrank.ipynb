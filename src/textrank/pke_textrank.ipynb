{
 "cells": [
  {
   "cell_type": "code",
   "execution_count": 8,
   "metadata": {},
   "outputs": [],
   "source": [
    "# set project path\n",
    "import sys\n",
    "import os\n",
    "import nltk\n",
    "import pandas as pd\n",
    "import ast\n",
    "\n",
    "PROJECT_ROOT = os.path.abspath(os.path.join(os.getcwd(), os.pardir))\n",
    "sys.path.append(PROJECT_ROOT)\n",
    "\n",
    "import pke_ia.textrank as textrank\n",
    "import pke_ia.base as base"
   ]
  },
  {
   "cell_type": "code",
   "execution_count": 9,
   "metadata": {},
   "outputs": [],
   "source": [
    "# Load Document\n",
    "path_data = os.path.join(PROJECT_ROOT, \"data\", \"dataset_ekstraksi_r30.xlsx\")\n",
    "df = pd.read_excel(path_data, sheet_name='Sheet1')\n",
    "df_pos = df['pos_sentence_list']"
   ]
  },
  {
   "cell_type": "code",
   "execution_count": 10,
   "metadata": {},
   "outputs": [],
   "source": [
    "pos = {'NN', 'VP', 'NP', 'FW'}\n",
    "# 1. create a TextRank extractor.\n",
    "extractor = textrank.TextRank()"
   ]
  },
  {
   "cell_type": "code",
   "execution_count": 11,
   "metadata": {},
   "outputs": [],
   "source": [
    "df_keyphrases = pd.DataFrame(columns=['key_1', 'val_1', 'key_2', 'val_2', 'key_3', 'val_3'])\n",
    "\n",
    "for text in df_pos:\n",
    "    text1 = ast.literal_eval(text)\n",
    "    extractor.load_document(input=text1) # text is not a list of list of tuple\n",
    "    keyphrase = extractor.candidate_weighting_ia()\n",
    "\n",
    "        # Separate the key and value elements into separate lists\n",
    "    keys = [item[0] for item in keyphrase]\n",
    "    values = [item[1] for item in keyphrase]\n",
    "\n",
    "    # Create a dictionary with the keys and values\n",
    "    data = {\n",
    "    'key_1': [keys[0]],\n",
    "    'val_1': [values[0]],\n",
    "    'key_2': [keys[1]],\n",
    "    'val_2': [values[1]],\n",
    "    'key_3': [keys[2]],\n",
    "    'val_3': [values[2]],\n",
    "    }\n",
    "    df_keyphrase = pd.DataFrame(data)\n",
    "    \n",
    "    # Concatenate df_keyphrase with df_keyphrases\n",
    "    df_keyphrases = pd.concat([df_keyphrases, df_keyphrase], ignore_index=True)\n"
   ]
  },
  {
   "cell_type": "code",
   "execution_count": 15,
   "metadata": {},
   "outputs": [],
   "source": [
    "# Add df_keyphrases ke file excel dataset_ekstraksi_r30.xlsx\n",
    "result_df = pd.concat([df, df_keyphrases], axis=1)\n",
    "\n",
    "# simpan dalam dataset\n",
    "output_path = os.path.join(PROJECT_ROOT, \"data\", \"dataset_ekstraksi_r30.xlsx\")\n",
    "result_df.to_excel(output_path, index=False)"
   ]
  }
 ],
 "metadata": {
  "kernelspec": {
   "display_name": "env01",
   "language": "python",
   "name": "python3"
  },
  "language_info": {
   "codemirror_mode": {
    "name": "ipython",
    "version": 3
   },
   "file_extension": ".py",
   "mimetype": "text/x-python",
   "name": "python",
   "nbconvert_exporter": "python",
   "pygments_lexer": "ipython3",
   "version": "3.9.12"
  },
  "orig_nbformat": 4
 },
 "nbformat": 4,
 "nbformat_minor": 2
}
