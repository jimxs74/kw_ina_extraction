{
 "cells": [
  {
   "cell_type": "code",
   "execution_count": 1,
   "metadata": {},
   "outputs": [],
   "source": [
    "#1. rutin1 import module\n",
    "import pandas as pd\n",
    "import os\n",
    "import sys"
   ]
  },
  {
   "cell_type": "code",
   "execution_count": 2,
   "metadata": {},
   "outputs": [],
   "source": [
    "#2. rutin2 membuat syspath ke root utk aktifkan __init__.py\n",
    "repo_root = os.path.abspath(os.path.join(os.getcwd(), os.pardir, os.pardir))\n",
    "sys.path.append(repo_root)"
   ]
  },
  {
   "cell_type": "code",
   "execution_count": 3,
   "metadata": {},
   "outputs": [],
   "source": [
    "#3. rutin3 Load the dataset\n",
    "dataset_path = os.path.join(repo_root, \"data/dataset_ekstraksi_r29.xlsx\")\n",
    "df = pd.read_excel(dataset_path)\n",
    "df[\"text\"] = df[\"judul\"] +\". \"+ df[\"isi\"]"
   ]
  },
  {
   "cell_type": "code",
   "execution_count": 5,
   "metadata": {},
   "outputs": [
    {
     "name": "stderr",
     "output_type": "stream",
     "text": [
      "/Users/jim/anaconda3/envs/kw_ina/lib/python3.11/site-packages/tqdm/auto.py:21: TqdmWarning: IProgress not found. Please update jupyter and ipywidgets. See https://ipywidgets.readthedocs.io/en/stable/user_install.html\n",
      "  from .autonotebook import tqdm as notebook_tqdm\n"
     ]
    }
   ],
   "source": [
    "from keybert import KeyBERT\n",
    "from sentence_transformers import SentenceTransformer\n",
    "\n",
    "# Pre-trained Indobert model for Bahasa Indonesia\n",
    "model_path = 'cahya/bert-base-indonesian-522M'\n",
    "indobert = SentenceTransformer(model_path)"
   ]
  },
  {
   "cell_type": "code",
   "execution_count": 12,
   "metadata": {},
   "outputs": [],
   "source": [
    "df_keyphrases = pd.DataFrame(columns=['key_1', 'val_1', 'key_2', 'val_2', 'key_3', 'val_3'])\n",
    "kw_model = KeyBERT(model=indobert)\n",
    "\n",
    "for text in df[\"text\"]:\n",
    "    keyphrase = kw_model.extract_keywords(text, keyphrase_ngram_range=(1, 3), top_n=3)\n",
    "\n",
    "    # Separate the key and value elements into separate lists\n",
    "    keys = [item[0] for item in keyphrase]\n",
    "    values = [item[1] for item in keyphrase]\n",
    "\n",
    "    # Create a dictionary with the keys and values\n",
    "    data = {\n",
    "    'key_1': [keys[0]],\n",
    "    'val_1': [values[0]],\n",
    "    'key_2': [keys[1]],\n",
    "    'val_2': [values[1]],\n",
    "    'key_3': [keys[2]],\n",
    "    'val_3': [values[2]],\n",
    "    }\n",
    "    df_keyphrase = pd.DataFrame(data)\n",
    "    \n",
    "    # Concatenate df_keyphrase with df_keyphrases\n",
    "    df_keyphrases = pd.concat([df_keyphrases, df_keyphrase], ignore_index=True)"
   ]
  },
  {
   "cell_type": "code",
   "execution_count": 13,
   "metadata": {},
   "outputs": [
    {
     "data": {
      "text/html": [
       "<div>\n",
       "<style scoped>\n",
       "    .dataframe tbody tr th:only-of-type {\n",
       "        vertical-align: middle;\n",
       "    }\n",
       "\n",
       "    .dataframe tbody tr th {\n",
       "        vertical-align: top;\n",
       "    }\n",
       "\n",
       "    .dataframe thead th {\n",
       "        text-align: right;\n",
       "    }\n",
       "</style>\n",
       "<table border=\"1\" class=\"dataframe\">\n",
       "  <thead>\n",
       "    <tr style=\"text-align: right;\">\n",
       "      <th></th>\n",
       "      <th>key_1</th>\n",
       "      <th>val_1</th>\n",
       "      <th>key_2</th>\n",
       "      <th>val_2</th>\n",
       "      <th>key_3</th>\n",
       "      <th>val_3</th>\n",
       "    </tr>\n",
       "  </thead>\n",
       "  <tbody>\n",
       "    <tr>\n",
       "      <th>0</th>\n",
       "      <td>tender dan menyampaikannya</td>\n",
       "      <td>0.5037</td>\n",
       "      <td>memberikan persetujuan tertulis</td>\n",
       "      <td>0.4945</td>\n",
       "      <td>usulan personil penting</td>\n",
       "      <td>0.4912</td>\n",
       "    </tr>\n",
       "    <tr>\n",
       "      <th>1</th>\n",
       "      <td>template document jtb</td>\n",
       "      <td>0.6378</td>\n",
       "      <td>jtb gas processing</td>\n",
       "      <td>0.5876</td>\n",
       "      <td>document jtb gpf</td>\n",
       "      <td>0.5662</td>\n",
       "    </tr>\n",
       "    <tr>\n",
       "      <th>2</th>\n",
       "      <td>proyek jtb tanggal</td>\n",
       "      <td>0.5076</td>\n",
       "      <td>work sites perusahaan</td>\n",
       "      <td>0.5050</td>\n",
       "      <td>25 terkait ruangan</td>\n",
       "      <td>0.5027</td>\n",
       "    </tr>\n",
       "  </tbody>\n",
       "</table>\n",
       "</div>"
      ],
      "text/plain": [
       "                        key_1   val_1                            key_2  \\\n",
       "0  tender dan menyampaikannya  0.5037  memberikan persetujuan tertulis   \n",
       "1       template document jtb  0.6378               jtb gas processing   \n",
       "2          proyek jtb tanggal  0.5076            work sites perusahaan   \n",
       "\n",
       "    val_2                    key_3   val_3  \n",
       "0  0.4945  usulan personil penting  0.4912  \n",
       "1  0.5876         document jtb gpf  0.5662  \n",
       "2  0.5050       25 terkait ruangan  0.5027  "
      ]
     },
     "execution_count": 13,
     "metadata": {},
     "output_type": "execute_result"
    }
   ],
   "source": [
    "df_keyphrases"
   ]
  },
  {
   "cell_type": "markdown",
   "metadata": {},
   "source": [
    "EVALUATION"
   ]
  },
  {
   "cell_type": "code",
   "execution_count": 14,
   "metadata": {},
   "outputs": [],
   "source": [
    "from utils import eval\n",
    "\n",
    "targets = df[[\"k1\", \"k2\", \"k3\",\"k4\", \"k5\", \"k6\",\"k7\"]].values.tolist()\n",
    "df_targets = pd.DataFrame(targets)"
   ]
  },
  {
   "cell_type": "code",
   "execution_count": 15,
   "metadata": {},
   "outputs": [
    {
     "data": {
      "text/html": [
       "<div>\n",
       "<style scoped>\n",
       "    .dataframe tbody tr th:only-of-type {\n",
       "        vertical-align: middle;\n",
       "    }\n",
       "\n",
       "    .dataframe tbody tr th {\n",
       "        vertical-align: top;\n",
       "    }\n",
       "\n",
       "    .dataframe thead th {\n",
       "        text-align: right;\n",
       "    }\n",
       "</style>\n",
       "<table border=\"1\" class=\"dataframe\">\n",
       "  <thead>\n",
       "    <tr style=\"text-align: right;\">\n",
       "      <th></th>\n",
       "      <th>key_1</th>\n",
       "      <th>key_2</th>\n",
       "      <th>key_3</th>\n",
       "      <th>flex_recall</th>\n",
       "      <th>flex_prec</th>\n",
       "    </tr>\n",
       "  </thead>\n",
       "  <tbody>\n",
       "    <tr>\n",
       "      <th>0</th>\n",
       "      <td>no_match</td>\n",
       "      <td>no_match</td>\n",
       "      <td>no_match</td>\n",
       "      <td>0.0</td>\n",
       "      <td>0.0</td>\n",
       "    </tr>\n",
       "    <tr>\n",
       "      <th>1</th>\n",
       "      <td>no_match</td>\n",
       "      <td>no_match</td>\n",
       "      <td>no_match</td>\n",
       "      <td>0.0</td>\n",
       "      <td>0.0</td>\n",
       "    </tr>\n",
       "    <tr>\n",
       "      <th>2</th>\n",
       "      <td>no_match</td>\n",
       "      <td>no_match</td>\n",
       "      <td>no_match</td>\n",
       "      <td>0.0</td>\n",
       "      <td>0.0</td>\n",
       "    </tr>\n",
       "  </tbody>\n",
       "</table>\n",
       "</div>"
      ],
      "text/plain": [
       "      key_1     key_2     key_3  flex_recall  flex_prec\n",
       "0  no_match  no_match  no_match          0.0        0.0\n",
       "1  no_match  no_match  no_match          0.0        0.0\n",
       "2  no_match  no_match  no_match          0.0        0.0"
      ]
     },
     "execution_count": 15,
     "metadata": {},
     "output_type": "execute_result"
    }
   ],
   "source": [
    "# Evaluation TextRank\n",
    "predict_keybert_list = df_keyphrases[['key_1','key_2','key_3']].values.tolist()\n",
    "eval_keybert = eval(predict_keybert_list, targets, True).round(3)\n",
    "eval_keybert.columns = ['key_1', 'key_2','key_3','strict_recall', 'strict_prec', 'flex_recall','flex_prec']\n",
    "eval_keybert = eval_keybert[['key_1', 'key_2','key_3', 'flex_recall','flex_prec']] # untuk menyederhanakan hasil evaluasi\n",
    "eval_keybert.head(3)"
   ]
  },
  {
   "cell_type": "code",
   "execution_count": 16,
   "metadata": {},
   "outputs": [
    {
     "name": "stderr",
     "output_type": "stream",
     "text": [
      "/var/folders/68/k0y245f57539r_hm0r4dpqtw0000gn/T/ipykernel_85459/855813875.py:4: RuntimeWarning: invalid value encountered in scalar divide\n",
      "  keybert_f1 = 2 * (keybert_prec * keybert_recall) / (keybert_prec + keybert_recall)\n"
     ]
    },
    {
     "data": {
      "text/html": [
       "<div>\n",
       "<style scoped>\n",
       "    .dataframe tbody tr th:only-of-type {\n",
       "        vertical-align: middle;\n",
       "    }\n",
       "\n",
       "    .dataframe tbody tr th {\n",
       "        vertical-align: top;\n",
       "    }\n",
       "\n",
       "    .dataframe thead th {\n",
       "        text-align: right;\n",
       "    }\n",
       "</style>\n",
       "<table border=\"1\" class=\"dataframe\">\n",
       "  <thead>\n",
       "    <tr style=\"text-align: right;\">\n",
       "      <th></th>\n",
       "      <th>textrank</th>\n",
       "    </tr>\n",
       "  </thead>\n",
       "  <tbody>\n",
       "    <tr>\n",
       "      <th>recall</th>\n",
       "      <td>0.0</td>\n",
       "    </tr>\n",
       "    <tr>\n",
       "      <th>precision</th>\n",
       "      <td>0.0</td>\n",
       "    </tr>\n",
       "    <tr>\n",
       "      <th>F1</th>\n",
       "      <td>NaN</td>\n",
       "    </tr>\n",
       "  </tbody>\n",
       "</table>\n",
       "</div>"
      ],
      "text/plain": [
       "           textrank\n",
       "recall          0.0\n",
       "precision       0.0\n",
       "F1              NaN"
      ]
     },
     "execution_count": 16,
     "metadata": {},
     "output_type": "execute_result"
    }
   ],
   "source": [
    "# Calculate TextRank Score, using flexible score : exact maatch =1, partial match = 1, no match = 0\n",
    "keybert_recall = eval_keybert['flex_recall'].mean()\n",
    "keybert_prec = eval_keybert['flex_prec'].mean()\n",
    "keybert_f1 = 2 * (keybert_prec * keybert_recall) / (keybert_prec + keybert_recall)\n",
    "\n",
    "# Create a DataFrame with the scores\n",
    "summary = pd.DataFrame({'textrank': [keybert_recall, keybert_prec, keybert_f1]}, index=['recall', 'precision', 'F1'])\n",
    "summary = summary.round(3)\n",
    "summary"
   ]
  },
  {
   "cell_type": "code",
   "execution_count": 17,
   "metadata": {},
   "outputs": [
    {
     "data": {
      "text/html": [
       "<div>\n",
       "<style scoped>\n",
       "    .dataframe tbody tr th:only-of-type {\n",
       "        vertical-align: middle;\n",
       "    }\n",
       "\n",
       "    .dataframe tbody tr th {\n",
       "        vertical-align: top;\n",
       "    }\n",
       "\n",
       "    .dataframe thead th {\n",
       "        text-align: right;\n",
       "    }\n",
       "</style>\n",
       "<table border=\"1\" class=\"dataframe\">\n",
       "  <thead>\n",
       "    <tr style=\"text-align: right;\">\n",
       "      <th></th>\n",
       "      <th>key_1</th>\n",
       "      <th>val_1</th>\n",
       "      <th>key_2</th>\n",
       "      <th>val_2</th>\n",
       "      <th>key_3</th>\n",
       "      <th>val_3</th>\n",
       "      <th>0</th>\n",
       "      <th>1</th>\n",
       "      <th>2</th>\n",
       "      <th>3</th>\n",
       "      <th>4</th>\n",
       "      <th>5</th>\n",
       "      <th>6</th>\n",
       "      <th>key_1</th>\n",
       "      <th>key_2</th>\n",
       "      <th>key_3</th>\n",
       "      <th>flex_recall</th>\n",
       "      <th>flex_prec</th>\n",
       "    </tr>\n",
       "  </thead>\n",
       "  <tbody>\n",
       "    <tr>\n",
       "      <th>0</th>\n",
       "      <td>tender dan menyampaikannya</td>\n",
       "      <td>0.5037</td>\n",
       "      <td>memberikan persetujuan tertulis</td>\n",
       "      <td>0.4945</td>\n",
       "      <td>usulan personil penting</td>\n",
       "      <td>0.4912</td>\n",
       "      <td>persetujuan tertulis</td>\n",
       "      <td>prosedur</td>\n",
       "      <td>usulan</td>\n",
       "      <td>pengganti</td>\n",
       "      <td>NaN</td>\n",
       "      <td>NaN</td>\n",
       "      <td>NaN</td>\n",
       "      <td>no_match</td>\n",
       "      <td>no_match</td>\n",
       "      <td>no_match</td>\n",
       "      <td>0.0</td>\n",
       "      <td>0.0</td>\n",
       "    </tr>\n",
       "    <tr>\n",
       "      <th>1</th>\n",
       "      <td>template document jtb</td>\n",
       "      <td>0.6378</td>\n",
       "      <td>jtb gas processing</td>\n",
       "      <td>0.5876</td>\n",
       "      <td>document jtb gpf</td>\n",
       "      <td>0.5662</td>\n",
       "      <td>template document</td>\n",
       "      <td>exhibit c</td>\n",
       "      <td>acuan</td>\n",
       "      <td>pengelolaan</td>\n",
       "      <td>dokumen</td>\n",
       "      <td>NaN</td>\n",
       "      <td>NaN</td>\n",
       "      <td>no_match</td>\n",
       "      <td>no_match</td>\n",
       "      <td>no_match</td>\n",
       "      <td>0.0</td>\n",
       "      <td>0.0</td>\n",
       "    </tr>\n",
       "    <tr>\n",
       "      <th>2</th>\n",
       "      <td>proyek jtb tanggal</td>\n",
       "      <td>0.5076</td>\n",
       "      <td>work sites perusahaan</td>\n",
       "      <td>0.5050</td>\n",
       "      <td>25 terkait ruangan</td>\n",
       "      <td>0.5027</td>\n",
       "      <td>ruang kantor</td>\n",
       "      <td>change inquiry</td>\n",
       "      <td>lingkup kerja</td>\n",
       "      <td>akomodasi</td>\n",
       "      <td>services for company</td>\n",
       "      <td>exhibit a</td>\n",
       "      <td>NaN</td>\n",
       "      <td>no_match</td>\n",
       "      <td>no_match</td>\n",
       "      <td>no_match</td>\n",
       "      <td>0.0</td>\n",
       "      <td>0.0</td>\n",
       "    </tr>\n",
       "  </tbody>\n",
       "</table>\n",
       "</div>"
      ],
      "text/plain": [
       "                        key_1   val_1                            key_2  \\\n",
       "0  tender dan menyampaikannya  0.5037  memberikan persetujuan tertulis   \n",
       "1       template document jtb  0.6378               jtb gas processing   \n",
       "2          proyek jtb tanggal  0.5076            work sites perusahaan   \n",
       "\n",
       "    val_2                    key_3   val_3                     0  \\\n",
       "0  0.4945  usulan personil penting  0.4912  persetujuan tertulis   \n",
       "1  0.5876         document jtb gpf  0.5662     template document   \n",
       "2  0.5050       25 terkait ruangan  0.5027          ruang kantor   \n",
       "\n",
       "                1              2            3                     4  \\\n",
       "0        prosedur         usulan    pengganti                   NaN   \n",
       "1       exhibit c          acuan  pengelolaan               dokumen   \n",
       "2  change inquiry  lingkup kerja    akomodasi  services for company   \n",
       "\n",
       "           5    6     key_1     key_2     key_3  flex_recall  flex_prec  \n",
       "0        NaN  NaN  no_match  no_match  no_match          0.0        0.0  \n",
       "1        NaN  NaN  no_match  no_match  no_match          0.0        0.0  \n",
       "2  exhibit a  NaN  no_match  no_match  no_match          0.0        0.0  "
      ]
     },
     "execution_count": 17,
     "metadata": {},
     "output_type": "execute_result"
    }
   ],
   "source": [
    "# Combine dataframe predict_textrank, df_targets and eval_textrank\n",
    "predict_keybert = pd.concat([df_keyphrases, df_targets, eval_keybert], axis=1)\n",
    "predict_keybert.head(3)"
   ]
  },
  {
   "cell_type": "code",
   "execution_count": null,
   "metadata": {},
   "outputs": [],
   "source": [
    "# Write predictions to excel file\n",
    "sheet_name = 'keybert'\n",
    "output_file = 'std_keybert.xlsx'\n",
    "write_excel(predict_keybert, sheet_name, output_file)"
   ]
  },
  {
   "cell_type": "markdown",
   "metadata": {},
   "source": [
    "TODO\n",
    "- membuat top-3 dengan keyBERT <done>\n",
    "- membuat iterasi"
   ]
  }
 ],
 "metadata": {
  "kernelspec": {
   "display_name": "kw_ina",
   "language": "python",
   "name": "python3"
  },
  "language_info": {
   "codemirror_mode": {
    "name": "ipython",
    "version": 3
   },
   "file_extension": ".py",
   "mimetype": "text/x-python",
   "name": "python",
   "nbconvert_exporter": "python",
   "pygments_lexer": "ipython3",
   "version": "3.11.4"
  },
  "orig_nbformat": 4
 },
 "nbformat": 4,
 "nbformat_minor": 2
}
