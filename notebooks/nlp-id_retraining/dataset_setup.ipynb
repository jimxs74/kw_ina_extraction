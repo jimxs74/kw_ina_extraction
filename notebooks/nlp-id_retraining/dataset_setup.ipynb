{
 "cells": [
  {
   "cell_type": "code",
   "execution_count": 1,
   "metadata": {},
   "outputs": [
    {
     "name": "stdout",
     "output_type": "stream",
     "text": [
      "346 unique words/phrases have been saved to unique_words.txt\n"
     ]
    }
   ],
   "source": [
    "import pandas as pd\n",
    "\n",
    "def extract_unique_words(excel_file, output_txt_file):\n",
    "    # Read the Excel file\n",
    "    df = pd.read_excel(excel_file, engine='openpyxl')\n",
    "\n",
    "    # Concatenate all the columns into a single series\n",
    "    all_words = df.apply(lambda x: ' '.join(x.dropna().astype(str)), axis=1)\n",
    "\n",
    "    # Split the words/phrases and get the unique ones\n",
    "    unique_words = set()\n",
    "    for sentence in all_words:\n",
    "        unique_words.update(sentence.split())\n",
    "\n",
    "    # Save the unique words to a .txt file\n",
    "    with open(output_txt_file, 'w') as file:\n",
    "        file.write('\\n'.join(unique_words))\n",
    "\n",
    "    print(f\"{len(unique_words)} unique words/phrases have been saved to {output_txt_file}\")\n",
    "\n",
    "# Usage example\n",
    "excel_file = 'foreign_word.xlsx'\n",
    "output_txt_file = 'unique_words.txt'\n",
    "extract_unique_words(excel_file, output_txt_file)\n"
   ]
  }
 ],
 "metadata": {
  "kernelspec": {
   "display_name": "kw_ina",
   "language": "python",
   "name": "python3"
  },
  "language_info": {
   "codemirror_mode": {
    "name": "ipython",
    "version": 3
   },
   "file_extension": ".py",
   "mimetype": "text/x-python",
   "name": "python",
   "nbconvert_exporter": "python",
   "pygments_lexer": "ipython3",
   "version": "3.11.4"
  },
  "orig_nbformat": 4
 },
 "nbformat": 4,
 "nbformat_minor": 2
}
