{
 "cells": [
  {
   "cell_type": "markdown",
   "metadata": {},
   "source": [
    "Program untuk konversi pdf ke text"
   ]
  },
  {
   "cell_type": "markdown",
   "metadata": {},
   "source": [
    "single file"
   ]
  },
  {
   "cell_type": "code",
   "execution_count": 4,
   "metadata": {},
   "outputs": [],
   "source": [
    "import PyPDF2\n",
    "import glob\n",
    "import pandas as pd"
   ]
  },
  {
   "cell_type": "code",
   "execution_count": null,
   "metadata": {},
   "outputs": [],
   "source": [
    "def pdf_to_text(pdf_path):\n",
    "    text = \"\"\n",
    "    try:\n",
    "        with open(pdf_path, 'rb') as file:\n",
    "            reader = PyPDF2.PdfReader(file)\n",
    "            print(f\"Number of pages: {len(reader.pages)}\") # Debugging line\n",
    "            for page_num in range(len(reader.pages)):\n",
    "                text += reader.pages[page_num].extract_text()\n",
    "    except Exception as e:\n",
    "        print(f\"An error occurred: {e}\") # Debugging line\n",
    "    return text\n",
    "\n",
    "# Example usage\n",
    "pathfile = \"pdf_folder/279.CPQ100.2023.S0 Notifikasi Issuance Turn Over Certificate.pdf\"\n",
    "text = pdf_to_text(pathfile)\n",
    "print(text)\n"
   ]
  },
  {
   "cell_type": "code",
   "execution_count": null,
   "metadata": {},
   "outputs": [],
   "source": [
    "import re\n",
    "\n",
    "def extract_text_between_sentences(text):\n",
    "    start_sentence = r\"JI\\. Kalibata Timur I No\\. 36 Kalibata\\s+Jakarta 12740 – INDONESIA\"\n",
    "    end_sentence = r\"General Manager Gas Project JTB\\s+Ruby Mulyawan\"\n",
    "    \n",
    "    pattern = re.compile(f'{start_sentence}(.*?){end_sentence}', re.S)\n",
    "    match = pattern.search(text)\n",
    "\n",
    "    return match.group(1).strip() if match else None\n",
    "\n",
    "#test function\n",
    "text_content = text\n",
    "extracted_text = extract_text_between_sentences(text_content)\n",
    "\n",
    "print(extracted_text)\n"
   ]
  },
  {
   "cell_type": "markdown",
   "metadata": {},
   "source": [
    "Multiple File"
   ]
  },
  {
   "cell_type": "code",
   "execution_count": 13,
   "metadata": {},
   "outputs": [
    {
     "name": "stdout",
     "output_type": "stream",
     "text": [
      "Number of pages: 1\n",
      "Number of pages: 32\n",
      "Number of pages: 10\n",
      "                                            filename  \\\n",
      "0  304.CPQ100.2023.S0 Surat Pengantar atas WO-044...   \n",
      "1  297.CPQ100.2023.S0 - Hasil Verifikasi Capaian ...   \n",
      "2  279.CPQ100.2023.S0 Notifikasi Issuance Turn Ov...   \n",
      "\n",
      "                                                text  \n",
      "0  Head Office\\nPatra Office Tower Gatot Subroto ...  \n",
      "1  Head Office\\nPatra Office Tower Gatot Subroto ...  \n",
      "2  Kantor Pusat \\nPatra Office Tower Lt. 5,6,7,8,...  \n"
     ]
    }
   ],
   "source": [
    "def pdfs_to_dataframe(folder_path):\n",
    "    texts = []\n",
    "    filenames = []\n",
    "\n",
    "    # Loop through all PDF files in the folder\n",
    "    for pdf_path in glob.glob(folder_path + '/*.pdf'):\n",
    "        text = \"\"\n",
    "        try:\n",
    "            with open(pdf_path, 'rb') as file:\n",
    "                reader = PyPDF2.PdfReader(file)\n",
    "                print(f\"Number of pages: {len(reader.pages)}\") # Debugging line\n",
    "                for page_num in range(len(reader.pages)):\n",
    "                    text += reader.pages[page_num].extract_text()\n",
    "        except Exception as e:\n",
    "            print(f\"An error occurred: {e}\") # Debugging line\n",
    "\n",
    "        filenames.append(pdf_path.split('/')[-1])\n",
    "        texts.append(text)\n",
    "\n",
    "    # Create DataFrame\n",
    "    df = pd.DataFrame({\n",
    "        'filename': filenames,\n",
    "        'text': texts\n",
    "    })\n",
    "\n",
    "    return df\n",
    "\n",
    "# Example usage\n",
    "folder_path = 'pdf_folder'\n",
    "df = pdfs_to_dataframe(folder_path)\n",
    "print(df.head())\n"
   ]
  }
 ],
 "metadata": {
  "kernelspec": {
   "display_name": ".venv",
   "language": "python",
   "name": "python3"
  },
  "language_info": {
   "codemirror_mode": {
    "name": "ipython",
    "version": 3
   },
   "file_extension": ".py",
   "mimetype": "text/x-python",
   "name": "python",
   "nbconvert_exporter": "python",
   "pygments_lexer": "ipython3",
   "version": "3.11.4"
  },
  "orig_nbformat": 4
 },
 "nbformat": 4,
 "nbformat_minor": 2
}
