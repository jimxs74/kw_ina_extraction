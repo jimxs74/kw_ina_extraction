{
 "cells": [
  {
   "cell_type": "code",
<<<<<<< Updated upstream
   "execution_count": null,
   "metadata": {},
   "outputs": [],
   "source": []
=======
   "execution_count": 22,
   "metadata": {},
   "outputs": [],
   "source": [
    "import PyPDF2\n",
    "import glob\n",
    "import pandas as pd\n",
    "import re"
   ]
  },
  {
   "cell_type": "markdown",
   "metadata": {},
   "source": [
    "Single File"
   ]
  },
  {
   "cell_type": "code",
   "execution_count": null,
   "metadata": {},
   "outputs": [],
   "source": [
    "def pdf_to_text(pdf_path):\n",
    "    text = \"\"\n",
    "    try:\n",
    "        with open(pdf_path, 'rb') as file:\n",
    "            reader = PyPDF2.PdfReader(file)\n",
    "            print(f\"Number of pages: {len(reader.pages)}\") # Debugging line\n",
    "            for page_num in range(len(reader.pages)):\n",
    "                text += reader.pages[page_num].extract_text()\n",
    "    except Exception as e:\n",
    "        print(f\"An error occurred: {e}\") # Debugging line\n",
    "    return text\n",
    "\n",
    "# Example usage\n",
    "pdf_path = \"pdf_folder/279.CPQ100.2023.S0 Notifikasi Issuance Turn Over Certificate.pdf\"\n",
    "text = pdf_to_text(pdf_path)\n",
    "print(text)\n"
   ]
  },
  {
   "cell_type": "code",
   "execution_count": 24,
   "metadata": {},
   "outputs": [
    {
     "name": "stdout",
     "output_type": "stream",
     "text": [
      "Dengan hormat,\n",
      "Merujuk surat KONTRAKTOR No. JTB-L-RJ-PJ-01157 tanggal 06 Juli 2023 perihal tersebut \n",
      "di atas, bersama ini PERUSAHAAN  sampaikan hal-hal berikut:\n",
      "1. Sehubungan dengan pernyataan KONTRAKTOR pada surat tersebut b ahwa terdapat\n",
      "remaining pekerjaan kecil yang tidak mengganggu pelaksanaan PERFORMANCE TEST ,\n",
      "PERUSAHAAN mencatat masih ada pekerjaan-pekerjaan kritikal beru pa pekerjaan-\n",
      "pekerjaan Commissioning dan System Proof Test yang harus diselesaikan oleh\n",
      "KONTRAKTOR, dimana penyelesaian pekerjaan dimaksud akan berpengaruh terhadap\n",
      "reliabilitas dan kontinuitas FASILITAS untuk dapat beroperasi s esuai dengan Design.\n",
      "Beberapa contoh critical System yang masih memerlukan penyelesaian segera sebagai \n",
      "berikut:\n",
      "a.System 234–diesel mode belum pernah diuji.\n",
      "b.Black start-up plant dengan menggunakan diesel mode .\n",
      "c.System 420–GTG auto change over (Fuel Gas to Diesel, Diesel to Fuel Gas ).\n",
      "d.System 520 & 530 yang belum dilaksanakan oleh KONTRAKTOR.\n",
      "e.System 580 & 590, belum pernah dilakukan commissioning secara menyeluruh\n",
      "dengan menggunakan limbah dari proses-2. Jika terjadi kegagalan  m a k a  m i t i g a s i\n",
      "KONTRAKTOR adalah dengan menampung sementara limbah tersebut di\n",
      "POND 1/POND 5 yang mempunyai keterbatasan jumlah volume yang dapat\n",
      "ditampung.\n",
      "f.System 630 –Water Injection/Bleed Water pipeline to Banyu Urip yang harus\n",
      "dilakukan pembersihan ( flushing/cleaning ) dan dilakukan leak test sebelum dilakukan\n",
      "pengiriman Bleed Water sesuai spesifikasi ke Banyu Urip.\n",
      "g. Kerusakan-kerusakan atau defect pada redundant system/back-up.\n",
      "1R\u0011\u0003\u0003\u0003\u0003\u0003\u0003  \u0012&34\u0014\u0013\u0013\u0012\u0015\u0013\u0015\u0016\u00106\u0013\n",
      "- 2 - \n",
      "h.Telecom & Security System seperti ACS ( Access Control System ) untuk perhitungan\n",
      "POB ( Personnel On Board ) di muster point dan sebagainya.\n",
      "2. Berdasarkan butir 1 di atas, terkait dengan proposal KONTRAKT OR untuk pengecualian\n",
      "penyelesaian sisa PEKERJAAN  guna memenuhi kondisi TURNOVER , maka saat ini\n",
      "PERUSAHAAN belum dapat menyetujui proposal KONTRAKTOR tersebut,  termasuk hal-\n",
      "hal yang terkait dengan TURNOVER CERTIFICATE with notes .\n",
      "3. Selanjutnya, PERUSAHAAN akan mempertimbangkan kondisi TURNO VER\n",
      "CERTIFICATE with notes tersebut, apabila KONTRAKTOR:\n",
      "a. Menyelesaikan pekerjaan Commissioning terkait hingga 100% plant capacity dapat\n",
      "segera tercapai sesuai komitmen.\n",
      "b. Menyelesaikan pekerjaan-pekerjaan kritikal Commissioning dan System Proof Test\n",
      "yang diantaranya sebagaimana PERUSAHAAN uraikan di atas sebelum  akhir Agustus\n",
      "2023, yang berpengaruh terhadap reliabilitas dan kontinuitas FA SILITAS untuk dapat\n",
      "beroperasi sesuai dengan Design .\n",
      "c. Menyampaikan rencana penyelesaian sisa PEKERJAAN ke dalam seb uah dokumen\n",
      "Execution Plan khusus lengkap dengan Jadwal Pelaksanaan yang realistis dan\n",
      "achievable , untuk di- review oleh PERUSAHAAN.\n",
      "Demikian surat ini kami sampaikan agar menjadi perhatian, dan a tas kerjasamanya diucapkan \n",
      "terima kasih.\n"
     ]
    }
   ],
   "source": [
    "def extract_text_surat_ptm(text):\n",
    "    start_sentence = r\"JI\\. Kalibata Timur I No\\. 36 Kalibata\\s+Jakarta 12740 – INDONESIA\"\n",
    "    end_sentence = r\"General Manager Gas Project JTB\\s+Ruby Mulyawan\"\n",
    "    \n",
    "    pattern = re.compile(f'{start_sentence}(.*?){end_sentence}', re.S)\n",
    "    match = pattern.search(text)\n",
    "\n",
    "    return match.group(1).strip() if match else None\n",
    "\n",
    "text_content = text\n",
    "extracted_text = extract_text_surat_ptm(text_content)\n",
    "\n",
    "print(extracted_text)"
   ]
  },
  {
   "cell_type": "markdown",
   "metadata": {},
   "source": [
    "Multiple File"
   ]
  },
  {
   "cell_type": "code",
   "execution_count": 18,
   "metadata": {},
   "outputs": [
    {
     "name": "stdout",
     "output_type": "stream",
     "text": [
      "Number of pages: 10\n",
      "Number of pages: 32\n",
      "Number of pages: 1\n",
      "                                            filename  \\\n",
      "0  279.CPQ100.2023.S0 Notifikasi Issuance Turn Ov...   \n",
      "1  297.CPQ100.2023.S0 - Hasil Verifikasi Capaian ...   \n",
      "2  304.CPQ100.2023.S0 Surat Pengantar atas WO-044...   \n",
      "\n",
      "                                                text  \n",
      "0  Kantor Pusat \\nPatra Office Tower Lt. 5,6,7,8,...  \n",
      "1  Head Office\\nPatra Office Tower Gatot Subroto ...  \n",
      "2  Head Office\\nPatra Office Tower Gatot Subroto ...  \n"
     ]
    }
   ],
   "source": [
    "def pdfs_to_dataframe(folder_path):\n",
    "    texts = []\n",
    "    filenames = []\n",
    "\n",
    "    # Loop through all PDF files in the folder\n",
    "    for pdf_path in glob.glob(folder_path + '/*.pdf'):\n",
    "        text = \"\"\n",
    "        try:\n",
    "            with open(pdf_path, 'rb') as file:\n",
    "                reader = PyPDF2.PdfReader(file)\n",
    "                print(f\"Number of pages: {len(reader.pages)}\") # Debugging line\n",
    "                for page_num in range(len(reader.pages)):\n",
    "                    text += reader.pages[page_num].extract_text()\n",
    "        except Exception as e:\n",
    "            return text\n",
    "\n",
    "        filenames.append(pdf_path.split('/')[-1])\n",
    "        texts.append(text)\n",
    "\n",
    "    # Create DataFrame\n",
    "    df = pd.DataFrame({\n",
    "        'filename': filenames,\n",
    "        'text': texts\n",
    "    })\n",
    "\n",
    "    return df\n",
    "\n",
    "# Example usage\n",
    "folder_path = 'pdf_folder'\n",
    "df = pdfs_to_dataframe(folder_path)\n",
    "print(df.head())\n"
   ]
>>>>>>> Stashed changes
  }
 ],
 "metadata": {
  "kernelspec": {
   "display_name": "kw_ina",
   "language": "python",
   "name": "python3"
  },
  "language_info": {
<<<<<<< Updated upstream
   "name": "python",
=======
   "codemirror_mode": {
    "name": "ipython",
    "version": 3
   },
   "file_extension": ".py",
   "mimetype": "text/x-python",
   "name": "python",
   "nbconvert_exporter": "python",
   "pygments_lexer": "ipython3",
>>>>>>> Stashed changes
   "version": "3.11.4"
  },
  "orig_nbformat": 4
 },
 "nbformat": 4,
 "nbformat_minor": 2
}
