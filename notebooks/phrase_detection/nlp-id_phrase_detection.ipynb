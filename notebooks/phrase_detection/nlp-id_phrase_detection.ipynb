{
 "cells": [
  {
   "cell_type": "code",
   "execution_count": 1,
   "metadata": {},
   "outputs": [],
   "source": [
    "#1. rutin1 import module\n",
    "import pandas as pd\n",
    "import os\n",
    "import sys\n",
    "import nltk"
   ]
  },
  {
   "cell_type": "code",
   "execution_count": 6,
   "metadata": {},
   "outputs": [],
   "source": [
    "# install nlp-id\n",
    "#%pip install nlp-id\n",
    "#nltk.download('punkt')   "
   ]
  },
  {
   "cell_type": "code",
   "execution_count": 2,
   "metadata": {},
   "outputs": [],
   "source": [
    "#2. rutin2 membuat syspath ke root utk aktifkan __init__.py\n",
    "repo_root = os.path.abspath(os.path.join(os.getcwd(), os.pardir, os.pardir))\n",
    "sys.path.append(repo_root)"
   ]
  },
  {
   "cell_type": "code",
   "execution_count": 6,
   "metadata": {},
   "outputs": [],
   "source": [
    "#3. rutin3 Load the dataset\n",
    "dataset_path = os.path.join(repo_root, \"data/dataset_ekstraksi_r29_sm.xlsx\")\n",
    "df = pd.read_excel(dataset_path)\n",
    "df[\"text\"] = df[\"judul\"] +\". \"+ df[\"isi\"]"
   ]
  },
  {
   "cell_type": "code",
   "execution_count": 1,
   "metadata": {},
   "outputs": [
    {
     "name": "stderr",
     "output_type": "stream",
     "text": [
      "/home/jimx/Documents/GitHub/kw_ina_extraction/.venv/lib/python3.9/site-packages/sklearn/base.py:318: UserWarning: Trying to unpickle estimator DictVectorizer from version 0.22 when using version 1.2.2. This might lead to breaking code or invalid results. Use at your own risk. For more info please refer to:\n",
      "https://scikit-learn.org/stable/model_persistence.html#security-maintainability-limitations\n",
      "  warnings.warn(\n",
      "/home/jimx/Documents/GitHub/kw_ina_extraction/.venv/lib/python3.9/site-packages/sklearn/base.py:318: UserWarning: Trying to unpickle estimator DecisionTreeClassifier from version 0.22 when using version 1.2.2. This might lead to breaking code or invalid results. Use at your own risk. For more info please refer to:\n",
      "https://scikit-learn.org/stable/model_persistence.html#security-maintainability-limitations\n",
      "  warnings.warn(\n",
      "/home/jimx/Documents/GitHub/kw_ina_extraction/.venv/lib/python3.9/site-packages/sklearn/base.py:318: UserWarning: Trying to unpickle estimator RandomForestClassifier from version 0.22 when using version 1.2.2. This might lead to breaking code or invalid results. Use at your own risk. For more info please refer to:\n",
      "https://scikit-learn.org/stable/model_persistence.html#security-maintainability-limitations\n",
      "  warnings.warn(\n",
      "/home/jimx/Documents/GitHub/kw_ina_extraction/.venv/lib/python3.9/site-packages/sklearn/base.py:318: UserWarning: Trying to unpickle estimator Pipeline from version 0.22 when using version 1.2.2. This might lead to breaking code or invalid results. Use at your own risk. For more info please refer to:\n",
      "https://scikit-learn.org/stable/model_persistence.html#security-maintainability-limitations\n",
      "  warnings.warn(\n"
     ]
    }
   ],
   "source": [
    "from nlp_id.tokenizer import PhraseTokenizer \n",
    "tokenizer = PhraseTokenizer() "
   ]
  },
  {
   "cell_type": "markdown",
   "metadata": {},
   "source": [
    "single text"
   ]
  },
  {
   "cell_type": "code",
   "execution_count": 15,
   "metadata": {},
   "outputs": [
    {
     "data": {
      "text/plain": [
       "'Usulan Personil Penting\\n(Proposed key personnel). Menunjuk surat KONTRAKTOR No. JTB-L-RJ-PJ-B0001 tertanggal 3 Oktober 2017 perihal Usulan Personil Penting yang baru sebagai pengganti dari Personil Penting yang sudah diajukan pada saat fase tender, dengan ini disampaikan bahwa PERUSAHAAN memerlukan beberapa tambahan penjelasan dari KONTRAKTOR.\\n\\nPERUSAHAAN dapat memahami terjadinya pergantian Personil Penting yang disebabkan oleh cukup lama nya durasi antara pengumuman pemenang lelang dan tanggal efektif dari kontrak.\\n\\nDalam hal ini PERUSAHAAN mengharapkan Personil Pengganti memiliki kualifikasi yang minimal sama dengan kualifikasi Personil Penting yang sudah\\ndiajukan pada saat fase tender. Akan tetapi PERUSAHAAN tidak mengharapkan KONTRAKTOR melakukan perubahan terhadap Organisasi yang diajukan pada saat fase tender.\\n\\nHal ini adalah karena, baik Organisasi maupun Personil Penting yang diajukan pada saat fase tender, termasuk salah satu faktor yang menentukan penilaian teknis dari Penawaran.\\n\\nSelain itu dapat diinformasikan bahwa PERUSAHAAN sudah memulai assessment terhadap Personil Pengganti yang diusulkan, dimana sebagian kandidat tidak dapat diterima menjadi Personil Pengganti. Informasi mengenai hal ini, telah disampaikan kepada Fungsi-Fungsi terkait di Konsorsium RJJ melalui email tersendiri.\\n\\nSelanjutnya, dalam rangka menjawab pertanyaan KONTRAKTOR mengenai prosedur yang harus dilaksanakan untuk mendapatkan persetujuan secara tertulis dari PERUSAHAAN, KONTRAKTOR diminta untuk menyampaikan pada kesempatan pertama, beberapa hal sebagai berikut:\\n\\n1. Membuat perbandingan antara Organisasi yang disampaikan pada surat tersebut diatas dengan Organisasi yang diajukan pada saat fase tender dan menyampaikannya kepada PERUSAHAAN.\\n\\n2. Memberikan penjelasan dan alasan atas setiap perbedaan antara Organisasi yang disampaikan pada surat tersebut diatas dengan Organisasi yang diajukan pada saat fase tender.\\n\\n3. Segera mengajukan usulan baru untuk kandidat Personil Penting yang tidak dapat diterima menjadi Personil Pengganti.\\n\\nPERUSAHAAN akan memberikan persetujuan tertulis setelah review atas hal-hal yang disebutkan diatas memberikan hasil yang baik.\\n\\nDemikian disampaikan, kami sangat menghargai perhatian dan tidak lanjut dari KONTRAKTOR atas hal ini.'"
      ]
     },
     "execution_count": 15,
     "metadata": {},
     "output_type": "execute_result"
    }
   ],
   "source": [
    "text = df[\"text\"][0]\n",
    "phrases = tokenizer.tokenize(text)\n",
    "\n",
    "# Filter the list to include only phrases (elements with more than one word)\n",
    "phrases_only = [phrase for phrase in phrases if \" \" in phrase]\n",
    "phrases_only"
   ]
  },
  {
   "cell_type": "markdown",
   "metadata": {},
   "source": [
    "Multirow text"
   ]
  },
  {
   "cell_type": "code",
   "execution_count": 25,
   "metadata": {},
   "outputs": [],
   "source": [
    "def detect_phrase(text):\n",
    "    tokenizer = PhraseTokenizer()\n",
    "    phrases = tokenizer.tokenize(text)\n",
    "    phrases_only = [phrase for phrase in phrases if \" \" in phrase]\n",
    "    \n",
    "    return phrases_only\n",
    "\n",
    "def detect_bigram(text):\n",
    "    tokenizer = PhraseTokenizer()\n",
    "    phrases = tokenizer.tokenize(text)\n",
    "\n",
    "    # Filter the list to include only bigrams (phrases with exactly two words)\n",
    "    bigrams_only = [phrase for phrase in phrases if phrase.count(\" \") == 1]\n",
    "\n",
    "    return bigrams_only\n",
    "\n",
    "def detect_trigram(text):\n",
    "    tokenizer = PhraseTokenizer()\n",
    "    phrases = tokenizer.tokenize(text)\n",
    "\n",
    "    # Filter the list to include only trigrams (phrases with exactly three words)\n",
    "    trigrams_only = [phrase for phrase in phrases if phrase.count(\" \") == 2]\n",
    "\n",
    "    return trigrams_only"
   ]
  },
  {
   "cell_type": "code",
   "execution_count": 26,
   "metadata": {},
   "outputs": [
    {
     "name": "stderr",
     "output_type": "stream",
     "text": [
      "/Users/jim/anaconda3/envs/kw_ina/lib/python3.11/site-packages/sklearn/base.py:318: UserWarning: Trying to unpickle estimator DictVectorizer from version 0.22 when using version 1.2.2. This might lead to breaking code or invalid results. Use at your own risk. For more info please refer to:\n",
      "https://scikit-learn.org/stable/model_persistence.html#security-maintainability-limitations\n",
      "  warnings.warn(\n",
      "/Users/jim/anaconda3/envs/kw_ina/lib/python3.11/site-packages/sklearn/base.py:318: UserWarning: Trying to unpickle estimator DecisionTreeClassifier from version 0.22 when using version 1.2.2. This might lead to breaking code or invalid results. Use at your own risk. For more info please refer to:\n",
      "https://scikit-learn.org/stable/model_persistence.html#security-maintainability-limitations\n",
      "  warnings.warn(\n",
      "/Users/jim/anaconda3/envs/kw_ina/lib/python3.11/site-packages/sklearn/base.py:318: UserWarning: Trying to unpickle estimator RandomForestClassifier from version 0.22 when using version 1.2.2. This might lead to breaking code or invalid results. Use at your own risk. For more info please refer to:\n",
      "https://scikit-learn.org/stable/model_persistence.html#security-maintainability-limitations\n",
      "  warnings.warn(\n",
      "/Users/jim/anaconda3/envs/kw_ina/lib/python3.11/site-packages/sklearn/base.py:318: UserWarning: Trying to unpickle estimator Pipeline from version 0.22 when using version 1.2.2. This might lead to breaking code or invalid results. Use at your own risk. For more info please refer to:\n",
      "https://scikit-learn.org/stable/model_persistence.html#security-maintainability-limitations\n",
      "  warnings.warn(\n"
     ]
    },
    {
     "data": {
      "text/plain": [
       "0                                     [3 Oktober 2017]\n",
       "1    [Template Document JTB, Jambaran Tiung Biru, G...\n",
       "2    [Perubahan Lingkup Kerja, Scope of Work, 25 Ok...\n",
       "3      [Saudara No JTB-L-RJ-PJ-Z-003, 27 Oktober 2017]\n",
       "4    [Ijin Survey Lapangan, 01 November 2017, 08 No...\n",
       "Name: phrase, dtype: object"
      ]
     },
     "execution_count": 26,
     "metadata": {},
     "output_type": "execute_result"
    }
   ],
   "source": [
    "df[\"phrase\"] =df[\"text\"].apply(detect_trigram)\n",
    "df[\"phrase\"].head()"
   ]
  }
 ],
 "metadata": {
  "kernelspec": {
   "display_name": "pke",
   "language": "python",
   "name": "python3"
  },
  "language_info": {
   "codemirror_mode": {
    "name": "ipython",
    "version": 3
   },
   "file_extension": ".py",
   "mimetype": "text/x-python",
   "name": "python",
   "nbconvert_exporter": "python",
   "pygments_lexer": "ipython3",
   "version": "3.9.2"
  },
  "orig_nbformat": 4
 },
 "nbformat": 4,
 "nbformat_minor": 2
}
