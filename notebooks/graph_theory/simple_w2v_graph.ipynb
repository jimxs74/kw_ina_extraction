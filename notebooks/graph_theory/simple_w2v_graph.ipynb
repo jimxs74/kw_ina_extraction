{
 "cells": [
  {
   "cell_type": "markdown",
   "metadata": {},
   "source": [
    "see : bard answer"
   ]
  },
  {
   "cell_type": "code",
   "execution_count": null,
   "metadata": {},
   "outputs": [],
   "source": [
    "import gensim\n",
    "import networkx as nx\n",
    "\n",
    "# Train a Word2Vec model on a corpus of text.\n",
    "model = gensim.models.Word2Vec(corpus, min_count=1)\n",
    "\n",
    "# Create a graph of the words in the document.\n",
    "graph = nx.Graph()\n",
    "for word in document:\n",
    "    for related_word in model.most_similar(word, topn=10):\n",
    "        graph.add_edge(word, related_word)\n",
    "\n",
    "# Use the vector representations from Word2Vec to initialize the weights of the edges in the graph.\n",
    "for edge in graph.edges():\n",
    "    graph.edges[edge]['weight'] = model.similarity(edge[0], edge[1])\n",
    "\n",
    "# Run TextRank on the graph to extract the keywords of the document.\n",
    "keywords = nx.pagerank(graph)"
   ]
  }
 ],
 "metadata": {
  "language_info": {
   "name": "python"
  },
  "orig_nbformat": 4
 },
 "nbformat": 4,
 "nbformat_minor": 2
}
