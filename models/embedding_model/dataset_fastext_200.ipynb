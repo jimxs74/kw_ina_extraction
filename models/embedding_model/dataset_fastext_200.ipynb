{
 "cells": [
  {
   "cell_type": "code",
   "execution_count": 1,
   "metadata": {},
   "outputs": [],
   "source": [
    "import fasttext\n",
    "import os\n",
    "import json\n",
    "import re\n",
    "from tqdm import tqdm\n",
    "\n",
    "from nltk.tokenize import word_tokenize\n",
    "from gensim.models.phrases import Phrases, Phraser"
   ]
  },
  {
   "cell_type": "code",
   "execution_count": 2,
   "metadata": {},
   "outputs": [
    {
     "name": "stderr",
     "output_type": "stream",
     "text": [
      "Processing files: 0it [00:00, ?it/s]\n",
      "Processing files: 100%|██████████| 35/35 [00:28<00:00,  1.24it/s]\n",
      "Processing files: 100%|██████████| 100/100 [01:12<00:00,  1.38it/s]\n",
      "Processing files: 100%|██████████| 100/100 [01:10<00:00,  1.42it/s]\n",
      "Processing files: 100%|██████████| 100/100 [01:06<00:00,  1.51it/s]\n",
      "Processing files: 100%|██████████| 100/100 [01:11<00:00,  1.40it/s]\n",
      "Processing files: 100%|██████████| 100/100 [00:59<00:00,  1.67it/s]\n",
      "Processing files: 100%|██████████| 100/100 [01:14<00:00,  1.34it/s]\n",
      "Processing files: 100%|██████████| 100/100 [01:15<00:00,  1.32it/s]\n",
      "Processing files: 100%|██████████| 100/100 [01:09<00:00,  1.45it/s]\n",
      "Processing files: 100%|██████████| 100/100 [01:05<00:00,  1.52it/s]\n"
     ]
    }
   ],
   "source": [
    "# PreProcess data\n",
    "def preprocess_text(text):\n",
    "    # Lowercasing and removing special characters\n",
    "    text = text.lower()\n",
    "    text = re.sub(r'\\W+', ' ', text)\n",
    "    # Tokenization\n",
    "    tokens = word_tokenize(text)\n",
    "    return ' '.join(tokens)\n",
    "\n",
    "def process_wiki_files(input_dir, output_file):\n",
    "    with open(output_file, 'w', encoding='utf-8') as f_out:\n",
    "        for root, dirs, files in os.walk(input_dir):\n",
    "            for file in tqdm(files, desc=\"Processing files\"):\n",
    "                file_path = os.path.join(root, file)\n",
    "                with open(file_path, 'r', encoding='utf-8') as f_in:\n",
    "                    for line in tqdm(f_in, desc=f\"Processing lines in {file}\", leave=False):\n",
    "                        article = json.loads(line)\n",
    "                        text = preprocess_text(article['text'])\n",
    "                        f_out.write(text + '\\n')\n",
    "\n",
    "# Assuming preprocess_text is a function you have defined\n",
    "process_wiki_files('extracted_text', 'processed_wiki_id.txt')\n",
    "\n"
   ]
  },
  {
   "cell_type": "code",
   "execution_count": 3,
   "metadata": {},
   "outputs": [
    {
     "name": "stderr",
     "output_type": "stream",
     "text": [
      "Read 87M wordsess:   0%|          | 0/5 [00:00<?, ?it/s]\n",
      "Number of words:  710071\n",
      "Number of labels: 0\n",
      "Progress: 100.0% words/sec/thread:    9596 lr:  0.000000 avg.loss:  1.226992 ETA:   0h 0m 0s avg.loss:  1.416471 ETA:   0h20m11s  5.7% words/sec/thread:    9701 lr:  0.047163 avg.loss:  1.404183 ETA:   0h20m10s  6.5% words/sec/thread:    9746 lr:  0.046726 avg.loss:  1.401475 ETA:   0h19m54s 16.2% words/sec/thread:    9100 lr:  0.041886 avg.loss:  1.388726 ETA:   0h19m 6s 17.0% words/sec/thread:    9085 lr:  0.041476 avg.loss:  1.388488 ETA:   0h18m57s   9065 lr:  0.041206 avg.loss:  1.389065 ETA:   0h18m52s ETA:   0h18m 0s 23.1% words/sec/thread:    8929 lr:  0.038464 avg.loss:  1.385370 ETA:   0h17m53s 28.9% words/sec/thread:    8884 lr:  0.035569 avg.loss:  1.363605 ETA:   0h16m37s 31.0% words/sec/thread:    8865 lr:  0.034510 avg.loss:  1.356263 ETA:   0h16m 9s 0.032402 avg.loss:  1.347154 ETA:   0h15m10s 39.5% words/sec/thread:    9039 lr:  0.030262 avg.loss:  1.338279 ETA:   0h13m53s 0.028916 avg.loss:  1.336370 ETA:   0h13m 9s 0.026646 avg.loss:  1.335092 ETA:   0h11m55s 57.2% words/sec/thread:    9608 lr:  0.021411 avg.loss:  1.292954 ETA:   0h 9m15s 67.5% words/sec/thread:    9701 lr:  0.016266 avg.loss:  1.256585 ETA:   0h 6m57s  0h 6m36s 73.8% words/sec/thread:    9730 lr:  0.013098 avg.loss:  1.241527 ETA:   0h 5m35s 77.8% words/sec/thread:    9669 lr:  0.011086 avg.loss:  1.233285 ETA:   0h 4m45s   9605 lr:  0.008846 avg.loss:  1.227810 ETA:   0h 3m49s 87.5% words/sec/thread:    9540 lr:  0.006267 avg.loss:  1.223283 ETA:   0h 2m43s 0.004289 avg.loss:  1.221276 ETA:   0h 1m51s\n",
      "Read 87M wordsess:  20%|██        | 1/5 [22:04<1:28:19, 1324.84s/it]\n",
      "Number of words:  710071\n",
      "Number of labels: 0\n",
      "Progress: 100.0% words/sec/thread:    8953 lr:  0.000000 avg.loss:  0.786907 ETA:   0h 0m 0s19sh37m41s 1.380034 ETA:   0h38m 9s 12.4% words/sec/thread:    9671 lr:  0.043795 avg.loss:  1.366157 ETA:   0h37m35s 13.2% words/sec/thread:    9603 lr:  0.043399 avg.loss:  1.358329 ETA:   0h37m31s lr:  0.042695 avg.loss:  1.346828 ETA:   0h36m45s 15.6% words/sec/thread:    9754 lr:  0.042217 avg.loss:  1.339558 ETA:   0h35m56s avg.loss:  1.334155 ETA:   0h34m53s 18.9% words/sec/thread:    9892 lr:  0.040573 avg.loss:  1.324539 ETA:   0h34m 3s 19.2% words/sec/thread:    9878 lr:  0.040387 avg.loss:  1.321625 ETA:   0h33m56s   9853 lr:  0.040308 avg.loss:  1.320252 ETA:   0h33m58s55s 1.179021 ETA:   0h25m50s 47.1% words/sec/thread:    9252 lr:  0.026464 avg.loss:  1.161290 ETA:   0h23m44s 58.8% words/sec/thread:    9501 lr:  0.020607 avg.loss:  1.101490 ETA:   0h18m 0s 58.9% words/sec/thread:    9501 lr:  0.020556 avg.loss:  1.100163 ETA:   0h17m57s 62.5% words/sec/thread:    9492 lr:  0.018758 avg.loss:  1.056021 ETA:   0h16m24s 63.6% words/sec/thread:    9445 lr:  0.018208 avg.loss:  1.041752 ETA:   0h16m 0s   9078 lr:  0.013971 avg.loss:  0.960540 ETA:   0h12m46s 73.5% words/sec/thread:    9031 lr:  0.013246 avg.loss:  0.949119 ETA:   0h12m10s 0.012524 avg.loss:  0.937476 ETA:   0h11m31s avg.loss:  0.895670 ETA:   0h 8m56s 81.4% words/sec/thread:    9042 lr:  0.009314 avg.loss:  0.889580 ETA:   0h 8m33s 82.2% words/sec/thread:    9042 lr:  0.008909 avg.loss:  0.884071 ETA:   0h 8m10s 7m34s 90.4% words/sec/thread:    8937 lr:  0.004803 avg.loss:  0.833767 ETA:   0h 4m27s  0h 4m14s 93.2% words/sec/thread:    8894 lr:  0.003377 avg.loss:  0.818576 ETA:   0h 3m 9s   8893 lr:  0.003122 avg.loss:  0.816033 ETA:   0h 2m54s 98.3% words/sec/thread:    8917 lr:  0.000867 avg.loss:  0.794539 ETA:   0h 0m48s 98.4% words/sec/thread:    8919 lr:  0.000777 avg.loss:  0.793616 ETA:   0h 0m43s\n",
      "Read 87M wordsess:  40%|████      | 2/5 [1:08:52<1:49:51, 2197.03s/it]\n",
      "Number of words:  710071\n",
      "Number of labels: 0\n",
      "Progress: 100.0% words/sec/thread:   10986 lr:  0.000000 avg.loss:  0.629472 ETA:   0h 0m 0s  2.4% words/sec/thread:   12066 lr:  0.048794 avg.loss:  1.364243 ETA:   0h50m21s  4.7% words/sec/thread:   12142 lr:  0.047666 avg.loss:  1.365923 ETA:   0h48m53s 0.046785 avg.loss:  1.361188 ETA:   0h51m 5s  6.7% words/sec/thread:   11297 lr:  0.046662 avg.loss:  1.360697 ETA:   0h51m26s  6.8% words/sec/thread:   11276 lr:  0.046591 avg.loss:  1.360444 ETA:   0h51m27s 14.2% words/sec/thread:    9813 lr:  0.042915 avg.loss:  1.304381 ETA:   0h54m28s 14.3% words/sec/thread:    9821 lr:  0.042867 avg.loss:  1.303644 ETA:   0h54m21s 15.8% words/sec/thread:    9971 lr:  0.042117 avg.loss:  1.300278 ETA:   0h52m36s 18.1% words/sec/thread:   10012 lr:  0.040973 avg.loss:  1.273289 ETA:   0h50m58s 0.040279 avg.loss:  1.253675 ETA:   0h49m51s  10059 lr:  0.040165 avg.loss:  1.250920 ETA:   0h49m43sm42s 20.7% words/sec/thread:   10159 lr:  0.039631 avg.loss:  1.236845 ETA:   0h48m35s 0.039617 avg.loss:  1.236491 ETA:   0h48m33s 0.032327 avg.loss:  1.132793 ETA:   0h38m29s 36.0% words/sec/thread:   10490 lr:  0.031995 avg.loss:  1.130423 ETA:   0h37m59s  0h35m39s 41.7% words/sec/thread:   10461 lr:  0.029137 avg.loss:  1.061005 ETA:   0h34m41s 42.8% words/sec/thread:   10454 lr:  0.028608 avg.loss:  1.043885 ETA:   0h34m 5s 43.4% words/sec/thread:   10441 lr:  0.028317 avg.loss:  1.035072 ETA:   0h33m46s 43.4% words/sec/thread:   10438 lr:  0.028303 avg.loss:  1.034515 ETA:   0h33m46s 43.5% words/sec/thread:   10428 lr:  0.028235 avg.loss:  1.032293 ETA:   0h33m43s 43.9% words/sec/thread:   10411 lr:  0.028059 avg.loss:  1.026848 ETA:   0h33m33s 48.0% words/sec/thread:   10447 lr:  0.026021 avg.loss:  0.970967 ETA:   0h31m 1s 49.0% words/sec/thread:   10427 lr:  0.025512 avg.loss:  0.958353 ETA:   0h30m28s avg.loss:  0.954911 ETA:   0h30m19s 0.025029 avg.loss:  0.946435 ETA:   0h29m52s lr:  0.024892 avg.loss:  0.943187 ETA:   0h29m42s 51.0% words/sec/thread:   10430 lr:  0.024511 avg.loss:  0.933876 ETA:   0h29m16s 0.023402 avg.loss:  0.907579 ETA:   0h27m53s 53.8% words/sec/thread:   10460 lr:  0.023114 avg.loss:  0.901239 ETA:   0h27m31s 55.6% words/sec/thread:   10496 lr:  0.022187 avg.loss:  0.880928 ETA:   0h26m19s 56.6% words/sec/thread:   10515 lr:  0.021681 avg.loss:  0.870837 ETA:   0h25m40s 58.1% words/sec/thread:   10525 lr:  0.020965 avg.loss:  0.856982 ETA:   0h24m48s 61.4% words/sec/thread:   10583 lr:  0.019288 avg.loss:  0.827215 ETA:   0h22m41sm 3s  0h18m43s 71.5% words/sec/thread:   10705 lr:  0.014234 avg.loss:  0.754361 ETA:   0h16m33s 91.9% words/sec/thread:   10960 lr:  0.004074 avg.loss:  0.656272 ETA:   0h 4m37s 93.5% words/sec/thread:   10971 lr:  0.003259 avg.loss:  0.650417 ETA:   0h 3m42s\n",
      "Read 87M wordsess:  60%|██████    | 3/5 [2:05:54<1:31:53, 2756.62s/it]\n",
      "Number of words:  710071\n",
      "Number of labels: 0\n",
      "Progress: 100.0% words/sec/thread:    9287 lr:  0.000000 avg.loss:  0.550107 ETA:   0h 0m 0s  0.3% words/sec/thread:    8338 lr:  0.049826 avg.loss:  1.584427 ETA:   1h39m13s 0.047173 avg.loss:  1.357048 ETA:   1h13m 8s lr:  0.043149 avg.loss:  1.268620 ETA:   1h 5m 7s 15.2% words/sec/thread:   11136 lr:  0.042410 avg.loss:  1.242072 ETA:   1h 3m14s 15.8% words/sec/thread:   11179 lr:  0.042111 avg.loss:  1.230260 ETA:   1h 2m33s 0.041557 avg.loss:  1.214525 ETA:   1h 1m22s 18.3% words/sec/thread:   11349 lr:  0.040838 avg.loss:  1.194756 ETA:   0h59m45s 19.3% words/sec/thread:   11413 lr:  0.040359 avg.loss:  1.184471 ETA:   0h58m43s 21.3% words/sec/thread:   11497 lr:  0.039367 avg.loss:  1.167021 ETA:   0h56m51s% words/sec/thread:   11542 lr:  0.038584 avg.loss:  1.154113 ETA:   0h55m30s 24.3% words/sec/thread:   11381 lr:  0.037861 avg.loss:  1.145794 ETA:   0h55m14s words/sec/thread:   10916 lr:  0.035578 avg.loss:  1.118016 ETA:   0h54m 7s 31.6% words/sec/thread:   10677 lr:  0.034212 avg.loss:  1.051695 ETA:   0h53m12s% words/sec/thread:   10668 lr:  0.034108 avg.loss:  1.047133 ETA:   0h53m 5s 32.0% words/sec/thread:   10654 lr:  0.034014 avg.loss:  1.043126 ETA:   0h53m 1s avg.loss:  0.975456 ETA:   0h51m16s 43.6% words/sec/thread:   10111 lr:  0.028196 avg.loss:  0.863313 ETA:   0h46m18s 44.2% words/sec/thread:   10087 lr:  0.027899 avg.loss:  0.856538 ETA:   0h45m55s 0.854292 ETA:   0h45m47s 45.6% words/sec/thread:   10041 lr:  0.027176 avg.loss:  0.841863 ETA:   0h44m56s 46.5% words/sec/thread:   10017 lr:  0.026755 avg.loss:  0.832571 ETA:   0h44m21s 49.0% words/sec/thread:    9940 lr:  0.025506 avg.loss:  0.807295 ETA:   0h42m36s 50.4% words/sec/thread:    9901 lr:  0.024792 avg.loss:  0.794255 ETA:   0h41m34s words/sec/thread:    9895 lr:  0.024684 avg.loss:  0.792096 ETA:   0h41m25s 51.6% words/sec/thread:    9867 lr:  0.024199 avg.loss:  0.783600 ETA:   0h40m43s 52.3% words/sec/thread:    9852 lr:  0.023872 avg.loss:  0.777577 ETA:   0h40m14s 58.5% words/sec/thread:    9718 lr:  0.020728 avg.loss:  0.728363 ETA:   0h35m25s 59.1% words/sec/thread:    9708 lr:  0.020445 avg.loss:  0.724148 ETA:   0h34m58s 59.3% words/sec/thread:    9705 lr:  0.020335 avg.loss:  0.722602 ETA:   0h34m47s 62.7% words/sec/thread:    9654 lr:  0.018654 avg.loss:  0.699433 ETA:   0h32m 5sm43s 64.6% words/sec/thread:    9627 lr:  0.017700 avg.loss:  0.687656 ETA:   0h30m31s 64.9% words/sec/thread:    9624 lr:  0.017558 avg.loss:  0.685967 ETA:   0h30m17sh29m23s 66.5% words/sec/thread:    9603 lr:  0.016728 avg.loss:  0.675768 ETA:   0h28m55s 71.6% words/sec/thread:    9539 lr:  0.014201 avg.loss:  0.650708 ETA:   0h24m43sm41s 72.9% words/sec/thread:    9522 lr:  0.013551 avg.loss:  0.644910 ETA:   0h23m37s 73.4% words/sec/thread:    9515 lr:  0.013307 avg.loss:  0.642919 ETA:   0h23m13sh22m 4s 78.4% words/sec/thread:    9450 lr:  0.010812 avg.loss:  0.621735 ETA:   0h18m59s 80.2% words/sec/thread:    9431 lr:  0.009924 avg.loss:  0.614299 ETA:   0h17m28s 84.4% words/sec/thread:    9394 lr:  0.007780 avg.loss:  0.599223 ETA:   0h13m45s 85.2% words/sec/thread:    9389 lr:  0.007382 avg.loss:  0.596235 ETA:   0h13m 3s 90.1% words/sec/thread:    9355 lr:  0.004936 avg.loss:  0.578978 ETA:   0h 8m45s 92.6% words/sec/thread:    9342 lr:  0.003685 avg.loss:  0.571348 ETA:   0h 6m33s 0.003089 avg.loss:  0.567551 ETA:   0h 5m29s 95.5% words/sec/thread:    9323 lr:  0.002238 avg.loss:  0.562407 ETA:   0h 3m59s 96.1% words/sec/thread:    9318 lr:  0.001971 avg.loss:  0.560634 ETA:   0h 3m30s 0.551006 ETA:   0h 0m21s\n",
      "Read 87M wordsess:  80%|████████  | 4/5 [3:35:45<1:03:16, 3796.56s/it]\n",
      "Number of words:  710071\n",
      "Number of labels: 0\n",
      "Training Progress: 100%|██████████| 5/5 [5:34:37<00:00, 4999.17s/it]  488594 ETA:   0h 0m 0s  0.1% words/sec/thread:    7996 lr:  0.049970 avg.loss:  2.536563 ETA:   2h 9m43s  0.5% words/sec/thread:    8493 lr:  0.049769 avg.loss:  1.433946 ETA:   2h 1m37s  2.5% words/sec/thread:    8635 lr:  0.048725 avg.loss:  1.375115 ETA:   1h57m 7s  2.8% words/sec/thread:    8601 lr:  0.048611 avg.loss:  1.369815 ETA:   1h57m18s  7.1% words/sec/thread:    8656 lr:  0.046436 avg.loss:  1.316394 ETA:   1h51m20s 11.5% words/sec/thread:    8710 lr:  0.044236 avg.loss:  1.255885 ETA:   1h45m25s 13.8% words/sec/thread:    8736 lr:  0.043123 avg.loss:  1.211735 ETA:   1h42m27s% words/sec/thread:    8746 lr:  0.042735 avg.loss:  1.198878 ETA:   1h41m25s 15.5% words/sec/thread:    8747 lr:  0.042266 avg.loss:  1.185441 ETA:   1h40m18s  1h39m33s 16.1% words/sec/thread:    8746 lr:  0.041938 avg.loss:  1.177939 ETA:   1h39m31s 0.041807 avg.loss:  1.174884 ETA:   1h39m14s 18.1% words/sec/thread:    8753 lr:  0.040935 avg.loss:  1.156199 ETA:   1h37m 4s 1.155879 ETA:   1h37m 2s 20.8% words/sec/thread:    8733 lr:  0.039601 avg.loss:  1.136132 ETA:   1h34m 7sh32m27s 22.5% words/sec/thread:    8732 lr:  0.038760 avg.loss:  1.120760 ETA:   1h32m 8s 23.9% words/sec/thread:    8721 lr:  0.038038 avg.loss:  1.093322 ETA:   1h30m32s 25.8% words/sec/thread:    8724 lr:  0.037078 avg.loss:  1.037664 ETA:   1h28m13s 27.1% words/sec/thread:    8728 lr:  0.036445 avg.loss:  1.006707 ETA:   1h26m40s 28.7% words/sec/thread:    8736 lr:  0.035637 avg.loss:  0.971429 ETA:   1h24m40s 29.6% words/sec/thread:    8739 lr:  0.035196 avg.loss:  0.952338 ETA:   1h23m35s   8751 lr:  0.034013 avg.loss:  0.906642 ETA:   1h20m40s 33.5% words/sec/thread:    8756 lr:  0.033234 avg.loss:  0.879327 ETA:   1h18m47s 35.2% words/sec/thread:    8760 lr:  0.032381 avg.loss:  0.854237 ETA:   1h16m43s 35.4% words/sec/thread:    8759 lr:  0.032295 avg.loss:  0.851884 ETA:   1h16m31s  1h16m17s 35.6% words/sec/thread:    8760 lr:  0.032191 avg.loss:  0.848840 ETA:   1h16m16sm50s15m40s 36.4% words/sec/thread:    8759 lr:  0.031806 avg.loss:  0.838561 ETA:   1h15m22s 37.3% words/sec/thread:    8763 lr:  0.031337 avg.loss:  0.826183 ETA:   1h14m13s% words/sec/thread:    8763 lr:  0.031256 avg.loss:  0.823752 ETA:   1h14m 2s words/sec/thread:    8753 lr:  0.029560 avg.loss:  0.782033 ETA:   1h10m 5s 0.029046 avg.loss:  0.770949 ETA:   1h 8m54s 43.8% words/sec/thread:    8746 lr:  0.028092 avg.loss:  0.751815 ETA:   1h 6m40s 46.3% words/sec/thread:    8749 lr:  0.026868 avg.loss:  0.728889 ETA:   1h 3m44s 46.7% words/sec/thread:    8750 lr:  0.026628 avg.loss:  0.724567 ETA:   1h 3m10s   8750 lr:  0.026455 avg.loss:  0.721300 ETA:   1h 2m45s 48.0% words/sec/thread:    8753 lr:  0.026003 avg.loss:  0.713329 ETA:   1h 1m39s 0.707053 ETA:   1h 0m48s 53.0% words/sec/thread:    8763 lr:  0.023486 avg.loss:  0.673959 ETA:   0h55m38s 54.4% words/sec/thread:    8765 lr:  0.022787 avg.loss:  0.663826 ETA:   0h53m57s 0.022707 avg.loss:  0.662669 ETA:   0h53m46s 58.0% words/sec/thread:    8767 lr:  0.021003 avg.loss:  0.639388 ETA:   0h49m43s 58.7% words/sec/thread:    8765 lr:  0.020660 avg.loss:  0.635128 ETA:   0h48m55s 60.4% words/sec/thread:    8761 lr:  0.019824 avg.loss:  0.625446 ETA:   0h46m58s% words/sec/thread:    8760 lr:  0.019303 avg.loss:  0.619966 ETA:   0h45m44s 0.619395 ETA:   0h45m37s   8756 lr:  0.018492 avg.loss:  0.611282 ETA:   0h43m50s 0.609953 ETA:   0h43m33s 63.3% words/sec/thread:    8756 lr:  0.018361 avg.loss:  0.609836 ETA:   0h43m31s 69.5% words/sec/thread:    8760 lr:  0.015231 avg.loss:  0.580336 ETA:   0h36m 5s% words/sec/thread:    8762 lr:  0.014559 avg.loss:  0.574591 ETA:   0h34m29s 71.7% words/sec/thread:    8763 lr:  0.014152 avg.loss:  0.571460 ETA:   0h33m31s30m56s 0.013023 avg.loss:  0.563078 ETA:   0h30m50s 75.5% words/sec/thread:    8766 lr:  0.012267 avg.loss:  0.557938 ETA:   0h29m 2s 0.010472 avg.loss:  0.544896 ETA:   0h24m48s 0.542734 ETA:   0h24m 3s 82.1% words/sec/thread:    8761 lr:  0.008964 avg.loss:  0.533842 ETA:   0h21m14s 89.5% words/sec/thread:    8764 lr:  0.005239 avg.loss:  0.510259 ETA:   0h12m24s 94.6% words/sec/thread:    8766 lr:  0.002679 avg.loss:  0.497681 ETA:   0h 6m20s 99.9% words/sec/thread:    8765 lr:  0.000065 avg.loss:  0.488853 ETA:   0h 0m 9sProgress: 100.0% words/sec/thread:    8764 lr:  0.000000 avg.loss:  0.488594 ETA:   0h 0m 0s\n",
      "Training Progress: 100%|██████████| 5/5 [5:34:37<00:00, 4015.45s/it]\n"
     ]
    }
   ],
   "source": [
    "# Train the FastText Model\n",
    "\n",
    "def train_fasttext_with_phrases(input_file, epochs=5, lr=0.05):\n",
    "    # Read the file and build sentences\n",
    "    sentences = []\n",
    "    with open(input_file, 'r', encoding='utf-8') as f:\n",
    "        for line in f:\n",
    "            sentences.append(line.split())\n",
    "\n",
    "    # Detect and create bigrams/trigrams\n",
    "    bigram = Phraser(Phrases(sentences, min_count=5, threshold=10))\n",
    "    trigram = Phraser(Phrases(bigram[sentences], min_count=5, threshold=10))\n",
    "\n",
    "    # Apply the bigram/trigram models to the sentences\n",
    "    sentences_with_phrases = [trigram[bigram[sentence]] for sentence in sentences]\n",
    "\n",
    "    # Write the sentences with phrases to a temporary file\n",
    "    temp_file = 'temp_sentences_with_phrases.txt'\n",
    "    with open(temp_file, 'w', encoding='utf-8') as f:\n",
    "        for sentence in sentences_with_phrases:\n",
    "            f.write(' '.join(sentence) + '\\n')\n",
    "\n",
    "    # Train FastText model with a progress bar\n",
    "    model = None\n",
    "    for epoch in tqdm(range(1, epochs + 1), desc='Training Progress'):\n",
    "        model = fasttext.train_unsupervised(temp_file, model='skipgram', lr=lr, epoch=epoch, dim=200)\n",
    "\n",
    "    # Clean up the temporary file\n",
    "    if os.path.exists(temp_file):\n",
    "        os.remove(temp_file)\n",
    "\n",
    "    return model\n",
    "\n",
    "\n",
    "# Train the model with the preprocessed Wikipedia text\n",
    "fasttext_model = train_fasttext_with_phrases('processed_wiki_id.txt')\n",
    "\n",
    "# Save the model\n",
    "fasttext_model.save_model(\"fasttext_ina_200_with_phrases.bin\")\n"
   ]
  },
  {
   "cell_type": "code",
   "execution_count": 4,
   "metadata": {},
   "outputs": [
    {
     "name": "stderr",
     "output_type": "stream",
     "text": [
      "Warning : `load_model` does not return WordVectorModel or SupervisedModel any more, but a `FastText` object which is very similar.\n"
     ]
    },
    {
     "name": "stdout",
     "output_type": "stream",
     "text": [
      "[ 9.61573839e-01  8.38488162e-01  2.13865265e-01  2.21283183e-01\n",
      "  7.49650225e-02  2.88928837e-01 -1.52228311e-01  1.19806945e-01\n",
      " -1.76374361e-01 -3.07138294e-01 -2.93017596e-01 -2.89286375e-01\n",
      " -3.96756232e-02 -2.48717636e-01 -2.53759325e-01 -9.49425936e-01\n",
      " -2.62389004e-01  1.46104563e-02  1.33989498e-01 -9.44157243e-02\n",
      " -2.42440611e-01  3.98812085e-01 -9.27317739e-02  4.84634697e-01\n",
      "  4.39166665e-01 -3.31306487e-01  2.79952019e-01 -6.71473593e-02\n",
      " -3.79338115e-02  2.56961763e-01 -2.27411777e-01 -3.28549594e-01\n",
      "  1.32463843e-01 -1.29975513e-01 -5.72263777e-01  2.08370537e-01\n",
      "  9.64891836e-02 -2.62546062e-01  2.79067725e-01  7.29772091e-01\n",
      "  2.49267012e-01  7.62313008e-02 -2.29858696e-01 -1.24097936e-01\n",
      " -2.99408566e-02  1.07388198e+00 -1.11079760e-01  4.24602538e-01\n",
      " -6.63948655e-02 -3.23917389e-01 -1.44984856e-01  1.57006875e-01\n",
      "  2.71386445e-01 -6.66582882e-01 -9.77723673e-02  3.47777128e-01\n",
      " -6.95869327e-01  2.78268725e-01  1.53705418e-01 -2.33361274e-01\n",
      " -2.23944649e-01 -6.70941845e-02  2.23482743e-01  2.61729881e-02\n",
      " -4.90451127e-01  2.05887571e-01 -5.74098468e-01 -3.16148847e-02\n",
      "  2.51924098e-01  2.67292887e-01 -1.56391352e-01  7.45546892e-02\n",
      "  1.03575997e-01  2.60185719e-01 -2.19038591e-01  9.17748511e-02\n",
      " -2.67953813e-01  1.97536483e-01  1.09893586e-02 -1.69064343e-01\n",
      " -2.77604431e-01  3.51030449e-03  1.30153373e-01 -8.36398220e-04\n",
      " -8.59077275e-02 -4.83180076e-01 -4.41072416e-03  2.90777653e-01\n",
      " -4.19972986e-02  8.74917656e-02 -2.41135076e-01  6.05162978e-01\n",
      "  1.77732006e-01 -3.61099631e-01  5.85255444e-01  3.35410625e-01\n",
      " -1.38992891e-01  2.65735798e-02 -5.38659282e-02  1.73318163e-01\n",
      " -3.43630254e-01 -4.04003523e-02 -3.14108044e-01 -3.96604806e-01\n",
      "  3.94102812e-01  2.63746500e-01  4.54514652e-01 -3.06308251e-02\n",
      " -3.76256317e-01 -3.28375131e-01  4.69917625e-01  3.43808711e-01\n",
      "  4.96158183e-01 -1.10630348e-01 -6.95049286e-01  4.42823432e-02\n",
      "  3.63669664e-01 -3.32338691e-01  5.25662959e-01 -2.49250725e-01\n",
      " -1.77135557e-01  1.93369567e-01 -2.75334358e-01 -1.07054114e-01\n",
      " -5.10414600e-01  1.40879929e-01  1.00995493e+00  2.44627684e-01\n",
      " -1.80219218e-01  1.19046472e-01  1.60167858e-01 -5.77754796e-01\n",
      " -5.11026345e-02  5.19262791e-01  2.41972327e-01  2.89938301e-01\n",
      " -2.38110393e-01 -1.46246135e-01 -2.39537925e-01 -3.99314046e-01\n",
      " -2.11028382e-01 -5.16137660e-01 -4.13810909e-01 -2.69577513e-03\n",
      " -5.61523378e-01 -4.38748181e-01 -9.53037292e-02  7.89563179e-01\n",
      "  8.46625194e-02  4.03546125e-01 -3.29082124e-02  7.12986112e-01\n",
      "  3.47225070e-02 -2.39484683e-01 -3.55562776e-01 -1.20247237e-01\n",
      "  2.30815306e-01  5.35415292e-01 -3.65169793e-02  5.40114820e-01\n",
      "  2.71810055e-01 -2.49028236e-01  2.53588110e-01  8.51090997e-02\n",
      "  4.64848056e-02 -8.87903452e-01  2.42227167e-02  3.66350263e-01\n",
      "  1.25722528e-01  1.29755102e-02  3.45753878e-01 -1.69711299e-02\n",
      "  6.94396496e-02  3.46973002e-01 -9.45010558e-02 -9.87866893e-02\n",
      " -4.60448451e-02 -4.02462035e-01 -1.83134466e-01 -1.09524876e-01\n",
      " -3.86135161e-01  1.17684789e-01  2.63339043e-01 -8.20461452e-01\n",
      "  1.21675305e-01 -2.29674112e-02 -1.15242964e-02 -3.81986313e-02\n",
      "  2.45567098e-01 -1.80319041e-01 -4.35345799e-01 -4.42911953e-01\n",
      " -5.53586245e-01 -8.39052141e-01  2.53227621e-01  2.13142168e-02\n",
      "  9.95350003e-01  1.59190506e-01  3.85016233e-01  8.05649221e-01]\n",
      "[(0.9431546330451965, 'harimau_harimau'), (0.9163910746574402, 'macan_harimau'), (0.8841801285743713, 'harimaunya'), (0.8786043524742126, 'harimau_singa'), (0.8765982389450073, 'harimau_macan'), (0.8658550977706909, 'singa_harimau'), (0.8527835011482239, 'ekor_harimau'), (0.8508732318878174, 'harimau_putih'), (0.8372529149055481, 'sang_harimau'), (0.8320279121398926, 'seekor_harimau')]\n"
     ]
    }
   ],
   "source": [
    "# Using the Model\n",
    "# Load model\n",
    "model = fasttext.load_model(\"fasttext_ina_200_with_phrases.bin\")\n",
    "\n",
    "# Get word vector for a word in Bahasa Indonesia\n",
    "word_vector = model.get_word_vector(\"singa\")\n",
    "print(word_vector)\n",
    "# Find similar words\n",
    "similar_words = model.get_nearest_neighbors(\"harimau\")\n",
    "print(similar_words)\n"
   ]
  }
 ],
 "metadata": {
  "kernelspec": {
   "display_name": ".venv",
   "language": "python",
   "name": "python3"
  },
  "language_info": {
   "codemirror_mode": {
    "name": "ipython",
    "version": 3
   },
   "file_extension": ".py",
   "mimetype": "text/x-python",
   "name": "python",
   "nbconvert_exporter": "python",
   "pygments_lexer": "ipython3",
   "version": "3.11.5"
  }
 },
 "nbformat": 4,
 "nbformat_minor": 2
}
